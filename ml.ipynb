{
  "metadata": {
    "colab": {
      "collapsed_sections": [
        "EuPwcAEknvBL",
        "wQ42ZlaOUhPu",
        "WsEd0qZNUTI4",
        "j5x-2MAh4E3A",
        "ZpwIrJDH76Ya",
        "qVlrpSOQv9MI",
        "CF_cStv2FdNe",
        "2VwztlLNQoxS",
        "_xWo_q-PQunI",
        "iShmTuNTsFTy",
        "G2mokWDKsoy-"
      ],
      "provenance": []
    },
    "kaggle": {
      "accelerator": "none",
      "dataSources": [
        {
          "sourceId": 61246,
          "databundleVersionId": 6604167,
          "sourceType": "competition"
        }
      ],
      "dockerImageVersionId": 30587,
      "isInternetEnabled": true,
      "language": "python",
      "sourceType": "notebook",
      "isGpuEnabled": false
    },
    "kernelspec": {
      "display_name": "Python 3",
      "language": "python",
      "name": "python3"
    },
    "language_info": {
      "codemirror_mode": {
        "name": "ipython",
        "version": 3
      },
      "file_extension": ".py",
      "mimetype": "text/x-python",
      "name": "python",
      "nbconvert_exporter": "python",
      "pygments_lexer": "ipython3",
      "version": "3.10.12"
    }
  },
  "nbformat_minor": 0,
  "nbformat": 4,
  "cells": [
    {
      "cell_type": "markdown",
      "source": [
        "# Taxi Fare Finder Pro: Total Amount Prediction"
      ],
      "metadata": {
        "id": "1M1gBuLQtLBx"
      }
    },
    {
      "cell_type": "markdown",
      "source": [
        "# Load data"
      ],
      "metadata": {
        "_uuid": "aca2960a-ed36-41be-9079-db2776115a3f",
        "_cell_guid": "e7cdc305-7bfc-4e2f-8d59-998c32f89cbf",
        "trusted": true,
        "id": "s7PWdYDEtLB2"
      }
    },
    {
      "cell_type": "code",
      "source": [
        "#importing initial libraries\n",
        "import pandas as pd, numpy as np\n",
        "import seaborn as sns, matplotlib.pyplot as plt"
      ],
      "metadata": {
        "_uuid": "4be17548-2ec9-432d-a737-c246dd5da29f",
        "_cell_guid": "21b34de0-76a5-42d2-bd93-0ffd4b5db342",
        "id": "ayyV9othvelr",
        "jupyter": {
          "outputs_hidden": false
        },
        "execution": {
          "iopub.status.busy": "2023-12-18T05:49:42.201017Z",
          "iopub.execute_input": "2023-12-18T05:49:42.201430Z",
          "iopub.status.idle": "2023-12-18T05:49:43.262395Z",
          "shell.execute_reply.started": "2023-12-18T05:49:42.201398Z",
          "shell.execute_reply": "2023-12-18T05:49:43.261434Z"
        },
        "trusted": true
      },
      "execution_count": null,
      "outputs": []
    },
    {
      "cell_type": "code",
      "source": [
        "#loading data\n",
        "train = pd.read_csv('/kaggle/input/taxi-fare-guru-total-amount-prediction-challenge/train.csv')\n",
        "test = pd.read_csv('/kaggle/input/taxi-fare-guru-total-amount-prediction-challenge/test.csv')"
      ],
      "metadata": {
        "_uuid": "a09f9f90-773e-4d74-929f-3b27690756b5",
        "_cell_guid": "3f1c0ec9-f6ed-4ef0-b754-c07cbb315b33",
        "id": "lQQ6vtUpnmMK",
        "jupyter": {
          "outputs_hidden": false
        },
        "execution": {
          "iopub.status.busy": "2023-12-18T05:49:50.090915Z",
          "iopub.execute_input": "2023-12-18T05:49:50.091473Z",
          "iopub.status.idle": "2023-12-18T05:49:51.133870Z",
          "shell.execute_reply.started": "2023-12-18T05:49:50.091434Z",
          "shell.execute_reply": "2023-12-18T05:49:51.132589Z"
        },
        "trusted": true
      },
      "execution_count": null,
      "outputs": []
    },
    {
      "cell_type": "markdown",
      "source": [
        "# Exploratory Data Analysis"
      ],
      "metadata": {
        "_uuid": "37adde1d-8176-496e-8d35-4bc1776f7055",
        "_cell_guid": "16055985-9260-4f7f-ace1-ae10aa4fabda",
        "trusted": true,
        "id": "yj22WC88tLB6"
      }
    },
    {
      "cell_type": "code",
      "source": [
        "train.head()"
      ],
      "metadata": {
        "_uuid": "49cb1d77-40ce-4a5e-aef6-628167aec9d1",
        "_cell_guid": "1d563ce3-1d40-4af5-9b9f-a7537c7ab3f5",
        "jupyter": {
          "outputs_hidden": false
        },
        "execution": {
          "iopub.status.busy": "2023-12-18T05:49:53.760919Z",
          "iopub.execute_input": "2023-12-18T05:49:53.761309Z",
          "iopub.status.idle": "2023-12-18T05:49:53.800350Z",
          "shell.execute_reply.started": "2023-12-18T05:49:53.761279Z",
          "shell.execute_reply": "2023-12-18T05:49:53.799199Z"
        },
        "trusted": true,
        "id": "bcHt-5-stLB7",
        "outputId": "873c3f68-2b24-4ce3-ebfe-0d467f64f815"
      },
      "execution_count": null,
      "outputs": [
        {
          "execution_count": 4,
          "output_type": "execute_result",
          "data": {
            "text/plain": "   VendorID tpep_pickup_datetime tpep_dropoff_datetime  passenger_count  \\\n0         1  2023-06-28 17:20:21   2023-06-28 16:34:45              1.0   \n1         0  2023-06-29 23:05:01   2023-06-29 22:01:35              1.0   \n2         1  2023-06-30 10:19:31   2023-06-30 11:13:10              1.0   \n3         0  2023-06-29 13:23:09   2023-06-29 14:20:01              1.0   \n4         1  2023-06-29 22:03:32   2023-06-29 22:22:22              3.0   \n\n   trip_distance  RatecodeID store_and_fwd_flag  PULocationID  DOLocationID  \\\n0           2.14         1.0                  N           120             9   \n1           2.70         1.0                  N            15           215   \n2           1.15         1.0                  N           167           223   \n3           0.40         1.0                  N           128           239   \n4           1.10         1.0                  N           203            52   \n\n  payment_type  extra  tip_amount  tolls_amount  improvement_surcharge  \\\n0  Credit Card    2.5    7.165589           0.0                    1.0   \n1  Credit Card    3.5    6.067401           0.0                    1.0   \n2  Credit Card    0.0    4.111547           0.0                    1.0   \n3  Credit Card    2.5    6.411079           0.0                    1.0   \n4  Credit Card    1.0    4.769377           0.0                    1.0   \n\n   total_amount  congestion_surcharge  Airport_fee  \n0         20.64                   2.5          0.0  \n1         25.55                   2.5          0.0  \n2         17.64                   2.5          0.0  \n3         12.80                   2.5          0.0  \n4         18.00                   2.5          0.0  ",
            "text/html": "<div>\n<style scoped>\n    .dataframe tbody tr th:only-of-type {\n        vertical-align: middle;\n    }\n\n    .dataframe tbody tr th {\n        vertical-align: top;\n    }\n\n    .dataframe thead th {\n        text-align: right;\n    }\n</style>\n<table border=\"1\" class=\"dataframe\">\n  <thead>\n    <tr style=\"text-align: right;\">\n      <th></th>\n      <th>VendorID</th>\n      <th>tpep_pickup_datetime</th>\n      <th>tpep_dropoff_datetime</th>\n      <th>passenger_count</th>\n      <th>trip_distance</th>\n      <th>RatecodeID</th>\n      <th>store_and_fwd_flag</th>\n      <th>PULocationID</th>\n      <th>DOLocationID</th>\n      <th>payment_type</th>\n      <th>extra</th>\n      <th>tip_amount</th>\n      <th>tolls_amount</th>\n      <th>improvement_surcharge</th>\n      <th>total_amount</th>\n      <th>congestion_surcharge</th>\n      <th>Airport_fee</th>\n    </tr>\n  </thead>\n  <tbody>\n    <tr>\n      <th>0</th>\n      <td>1</td>\n      <td>2023-06-28 17:20:21</td>\n      <td>2023-06-28 16:34:45</td>\n      <td>1.0</td>\n      <td>2.14</td>\n      <td>1.0</td>\n      <td>N</td>\n      <td>120</td>\n      <td>9</td>\n      <td>Credit Card</td>\n      <td>2.5</td>\n      <td>7.165589</td>\n      <td>0.0</td>\n      <td>1.0</td>\n      <td>20.64</td>\n      <td>2.5</td>\n      <td>0.0</td>\n    </tr>\n    <tr>\n      <th>1</th>\n      <td>0</td>\n      <td>2023-06-29 23:05:01</td>\n      <td>2023-06-29 22:01:35</td>\n      <td>1.0</td>\n      <td>2.70</td>\n      <td>1.0</td>\n      <td>N</td>\n      <td>15</td>\n      <td>215</td>\n      <td>Credit Card</td>\n      <td>3.5</td>\n      <td>6.067401</td>\n      <td>0.0</td>\n      <td>1.0</td>\n      <td>25.55</td>\n      <td>2.5</td>\n      <td>0.0</td>\n    </tr>\n    <tr>\n      <th>2</th>\n      <td>1</td>\n      <td>2023-06-30 10:19:31</td>\n      <td>2023-06-30 11:13:10</td>\n      <td>1.0</td>\n      <td>1.15</td>\n      <td>1.0</td>\n      <td>N</td>\n      <td>167</td>\n      <td>223</td>\n      <td>Credit Card</td>\n      <td>0.0</td>\n      <td>4.111547</td>\n      <td>0.0</td>\n      <td>1.0</td>\n      <td>17.64</td>\n      <td>2.5</td>\n      <td>0.0</td>\n    </tr>\n    <tr>\n      <th>3</th>\n      <td>0</td>\n      <td>2023-06-29 13:23:09</td>\n      <td>2023-06-29 14:20:01</td>\n      <td>1.0</td>\n      <td>0.40</td>\n      <td>1.0</td>\n      <td>N</td>\n      <td>128</td>\n      <td>239</td>\n      <td>Credit Card</td>\n      <td>2.5</td>\n      <td>6.411079</td>\n      <td>0.0</td>\n      <td>1.0</td>\n      <td>12.80</td>\n      <td>2.5</td>\n      <td>0.0</td>\n    </tr>\n    <tr>\n      <th>4</th>\n      <td>1</td>\n      <td>2023-06-29 22:03:32</td>\n      <td>2023-06-29 22:22:22</td>\n      <td>3.0</td>\n      <td>1.10</td>\n      <td>1.0</td>\n      <td>N</td>\n      <td>203</td>\n      <td>52</td>\n      <td>Credit Card</td>\n      <td>1.0</td>\n      <td>4.769377</td>\n      <td>0.0</td>\n      <td>1.0</td>\n      <td>18.00</td>\n      <td>2.5</td>\n      <td>0.0</td>\n    </tr>\n  </tbody>\n</table>\n</div>"
          },
          "metadata": {}
        }
      ]
    },
    {
      "cell_type": "code",
      "source": [
        "train.info()"
      ],
      "metadata": {
        "_uuid": "e1593fe6-c8b9-4b86-acc1-116eb99a7855",
        "_cell_guid": "04ae4df2-e1a3-484b-a6d5-7432e24351da",
        "id": "H5nsP2eLnrpo",
        "outputId": "655f27a4-21d5-43f4-cd45-74e16ea593d3",
        "jupyter": {
          "outputs_hidden": false
        },
        "execution": {
          "iopub.status.busy": "2023-12-18T05:49:58.690858Z",
          "iopub.execute_input": "2023-12-18T05:49:58.691252Z",
          "iopub.status.idle": "2023-12-18T05:49:58.759545Z",
          "shell.execute_reply.started": "2023-12-18T05:49:58.691223Z",
          "shell.execute_reply": "2023-12-18T05:49:58.758654Z"
        },
        "trusted": true
      },
      "execution_count": null,
      "outputs": [
        {
          "name": "stdout",
          "text": "<class 'pandas.core.frame.DataFrame'>\nRangeIndex: 175000 entries, 0 to 174999\nData columns (total 17 columns):\n #   Column                 Non-Null Count   Dtype  \n---  ------                 --------------   -----  \n 0   VendorID               175000 non-null  int64  \n 1   tpep_pickup_datetime   175000 non-null  object \n 2   tpep_dropoff_datetime  175000 non-null  object \n 3   passenger_count        168923 non-null  float64\n 4   trip_distance          175000 non-null  float64\n 5   RatecodeID             168923 non-null  float64\n 6   store_and_fwd_flag     168923 non-null  object \n 7   PULocationID           175000 non-null  int64  \n 8   DOLocationID           175000 non-null  int64  \n 9   payment_type           175000 non-null  object \n 10  extra                  175000 non-null  float64\n 11  tip_amount             175000 non-null  float64\n 12  tolls_amount           175000 non-null  float64\n 13  improvement_surcharge  175000 non-null  float64\n 14  total_amount           175000 non-null  float64\n 15  congestion_surcharge   168923 non-null  float64\n 16  Airport_fee            168923 non-null  float64\ndtypes: float64(10), int64(3), object(4)\nmemory usage: 22.7+ MB\n",
          "output_type": "stream"
        }
      ]
    },
    {
      "cell_type": "code",
      "source": [
        "train.describe(include='all')"
      ],
      "metadata": {
        "_uuid": "bdb5a3de-93c0-4254-a94b-84f2760ff327",
        "_cell_guid": "02e5896c-1c0e-4aee-8e30-a9f3dc4e785e",
        "jupyter": {
          "outputs_hidden": false
        },
        "execution": {
          "iopub.status.busy": "2023-12-18T05:50:01.820785Z",
          "iopub.execute_input": "2023-12-18T05:50:01.821187Z",
          "iopub.status.idle": "2023-12-18T05:50:02.277962Z",
          "shell.execute_reply.started": "2023-12-18T05:50:01.821154Z",
          "shell.execute_reply": "2023-12-18T05:50:02.276649Z"
        },
        "trusted": true,
        "id": "_3LndXM0tLB-",
        "outputId": "d689b34e-ca19-4041-dcd2-f1430c83d2fc"
      },
      "execution_count": null,
      "outputs": [
        {
          "execution_count": 6,
          "output_type": "execute_result",
          "data": {
            "text/plain": "             VendorID tpep_pickup_datetime tpep_dropoff_datetime  \\\ncount   175000.000000               175000                175000   \nunique            NaN               109877                109713   \ntop               NaN  2023-06-28 18:11:16   2023-06-29 19:08:22   \nfreq              NaN                    8                    10   \nmean         0.728377                  NaN                   NaN   \nstd          0.445606                  NaN                   NaN   \nmin          0.000000                  NaN                   NaN   \n25%          0.000000                  NaN                   NaN   \n50%          1.000000                  NaN                   NaN   \n75%          1.000000                  NaN                   NaN   \nmax          2.000000                  NaN                   NaN   \n\n        passenger_count  trip_distance     RatecodeID store_and_fwd_flag  \\\ncount     168923.000000  175000.000000  168923.000000             168923   \nunique              NaN            NaN            NaN                  2   \ntop                 NaN            NaN            NaN                  N   \nfreq                NaN            NaN            NaN             167729   \nmean           1.357678       5.145930       1.518307                NaN   \nstd            0.891283     394.971052       6.514678                NaN   \nmin            0.000000       0.000000       1.000000                NaN   \n25%            1.000000       1.080000       1.000000                NaN   \n50%            1.000000       1.840000       1.000000                NaN   \n75%            1.000000       3.610000       1.000000                NaN   \nmax            9.000000  135182.060000      99.000000                NaN   \n\n         PULocationID   DOLocationID payment_type          extra  \\\ncount   175000.000000  175000.000000       175000  175000.000000   \nunique            NaN            NaN            5            NaN   \ntop               NaN            NaN  Credit Card            NaN   \nfreq              NaN            NaN       135257            NaN   \nmean       132.710349     132.701429          NaN       1.932143   \nstd         76.148799      76.192493          NaN       1.948497   \nmin          1.000000       1.000000          NaN      -7.500000   \n25%         67.000000      67.000000          NaN       0.000000   \n50%        133.000000     133.000000          NaN       1.000000   \n75%        199.000000     199.000000          NaN       2.500000   \nmax        264.000000     264.000000          NaN      11.750000   \n\n           tip_amount   tolls_amount  improvement_surcharge   total_amount  \\\ncount   175000.000000  175000.000000          175000.000000  175000.000000   \nunique            NaN            NaN                    NaN            NaN   \ntop               NaN            NaN                    NaN            NaN   \nfreq              NaN            NaN                    NaN            NaN   \nmean         6.127497       0.646816               0.979689      29.633901   \nstd          4.610834       2.328274               0.198775      25.425206   \nmin          0.000079     -29.300000              -1.000000    -576.750000   \n25%          3.473321       0.000000               1.000000      16.300000   \n50%          5.286217       0.000000               1.000000      21.450000   \n75%          7.502746       0.000000               1.000000      31.800000   \nmax        484.876151      80.000000               1.000000     587.250000   \n\n        congestion_surcharge    Airport_fee  \ncount          168923.000000  168923.000000  \nunique                   NaN            NaN  \ntop                      NaN            NaN  \nfreq                     NaN            NaN  \nmean                2.246971       0.158825  \nstd                 0.819216       0.511968  \nmin                -2.500000      -1.750000  \n25%                 2.500000       0.000000  \n50%                 2.500000       0.000000  \n75%                 2.500000       0.000000  \nmax                 2.500000       1.750000  ",
            "text/html": "<div>\n<style scoped>\n    .dataframe tbody tr th:only-of-type {\n        vertical-align: middle;\n    }\n\n    .dataframe tbody tr th {\n        vertical-align: top;\n    }\n\n    .dataframe thead th {\n        text-align: right;\n    }\n</style>\n<table border=\"1\" class=\"dataframe\">\n  <thead>\n    <tr style=\"text-align: right;\">\n      <th></th>\n      <th>VendorID</th>\n      <th>tpep_pickup_datetime</th>\n      <th>tpep_dropoff_datetime</th>\n      <th>passenger_count</th>\n      <th>trip_distance</th>\n      <th>RatecodeID</th>\n      <th>store_and_fwd_flag</th>\n      <th>PULocationID</th>\n      <th>DOLocationID</th>\n      <th>payment_type</th>\n      <th>extra</th>\n      <th>tip_amount</th>\n      <th>tolls_amount</th>\n      <th>improvement_surcharge</th>\n      <th>total_amount</th>\n      <th>congestion_surcharge</th>\n      <th>Airport_fee</th>\n    </tr>\n  </thead>\n  <tbody>\n    <tr>\n      <th>count</th>\n      <td>175000.000000</td>\n      <td>175000</td>\n      <td>175000</td>\n      <td>168923.000000</td>\n      <td>175000.000000</td>\n      <td>168923.000000</td>\n      <td>168923</td>\n      <td>175000.000000</td>\n      <td>175000.000000</td>\n      <td>175000</td>\n      <td>175000.000000</td>\n      <td>175000.000000</td>\n      <td>175000.000000</td>\n      <td>175000.000000</td>\n      <td>175000.000000</td>\n      <td>168923.000000</td>\n      <td>168923.000000</td>\n    </tr>\n    <tr>\n      <th>unique</th>\n      <td>NaN</td>\n      <td>109877</td>\n      <td>109713</td>\n      <td>NaN</td>\n      <td>NaN</td>\n      <td>NaN</td>\n      <td>2</td>\n      <td>NaN</td>\n      <td>NaN</td>\n      <td>5</td>\n      <td>NaN</td>\n      <td>NaN</td>\n      <td>NaN</td>\n      <td>NaN</td>\n      <td>NaN</td>\n      <td>NaN</td>\n      <td>NaN</td>\n    </tr>\n    <tr>\n      <th>top</th>\n      <td>NaN</td>\n      <td>2023-06-28 18:11:16</td>\n      <td>2023-06-29 19:08:22</td>\n      <td>NaN</td>\n      <td>NaN</td>\n      <td>NaN</td>\n      <td>N</td>\n      <td>NaN</td>\n      <td>NaN</td>\n      <td>Credit Card</td>\n      <td>NaN</td>\n      <td>NaN</td>\n      <td>NaN</td>\n      <td>NaN</td>\n      <td>NaN</td>\n      <td>NaN</td>\n      <td>NaN</td>\n    </tr>\n    <tr>\n      <th>freq</th>\n      <td>NaN</td>\n      <td>8</td>\n      <td>10</td>\n      <td>NaN</td>\n      <td>NaN</td>\n      <td>NaN</td>\n      <td>167729</td>\n      <td>NaN</td>\n      <td>NaN</td>\n      <td>135257</td>\n      <td>NaN</td>\n      <td>NaN</td>\n      <td>NaN</td>\n      <td>NaN</td>\n      <td>NaN</td>\n      <td>NaN</td>\n      <td>NaN</td>\n    </tr>\n    <tr>\n      <th>mean</th>\n      <td>0.728377</td>\n      <td>NaN</td>\n      <td>NaN</td>\n      <td>1.357678</td>\n      <td>5.145930</td>\n      <td>1.518307</td>\n      <td>NaN</td>\n      <td>132.710349</td>\n      <td>132.701429</td>\n      <td>NaN</td>\n      <td>1.932143</td>\n      <td>6.127497</td>\n      <td>0.646816</td>\n      <td>0.979689</td>\n      <td>29.633901</td>\n      <td>2.246971</td>\n      <td>0.158825</td>\n    </tr>\n    <tr>\n      <th>std</th>\n      <td>0.445606</td>\n      <td>NaN</td>\n      <td>NaN</td>\n      <td>0.891283</td>\n      <td>394.971052</td>\n      <td>6.514678</td>\n      <td>NaN</td>\n      <td>76.148799</td>\n      <td>76.192493</td>\n      <td>NaN</td>\n      <td>1.948497</td>\n      <td>4.610834</td>\n      <td>2.328274</td>\n      <td>0.198775</td>\n      <td>25.425206</td>\n      <td>0.819216</td>\n      <td>0.511968</td>\n    </tr>\n    <tr>\n      <th>min</th>\n      <td>0.000000</td>\n      <td>NaN</td>\n      <td>NaN</td>\n      <td>0.000000</td>\n      <td>0.000000</td>\n      <td>1.000000</td>\n      <td>NaN</td>\n      <td>1.000000</td>\n      <td>1.000000</td>\n      <td>NaN</td>\n      <td>-7.500000</td>\n      <td>0.000079</td>\n      <td>-29.300000</td>\n      <td>-1.000000</td>\n      <td>-576.750000</td>\n      <td>-2.500000</td>\n      <td>-1.750000</td>\n    </tr>\n    <tr>\n      <th>25%</th>\n      <td>0.000000</td>\n      <td>NaN</td>\n      <td>NaN</td>\n      <td>1.000000</td>\n      <td>1.080000</td>\n      <td>1.000000</td>\n      <td>NaN</td>\n      <td>67.000000</td>\n      <td>67.000000</td>\n      <td>NaN</td>\n      <td>0.000000</td>\n      <td>3.473321</td>\n      <td>0.000000</td>\n      <td>1.000000</td>\n      <td>16.300000</td>\n      <td>2.500000</td>\n      <td>0.000000</td>\n    </tr>\n    <tr>\n      <th>50%</th>\n      <td>1.000000</td>\n      <td>NaN</td>\n      <td>NaN</td>\n      <td>1.000000</td>\n      <td>1.840000</td>\n      <td>1.000000</td>\n      <td>NaN</td>\n      <td>133.000000</td>\n      <td>133.000000</td>\n      <td>NaN</td>\n      <td>1.000000</td>\n      <td>5.286217</td>\n      <td>0.000000</td>\n      <td>1.000000</td>\n      <td>21.450000</td>\n      <td>2.500000</td>\n      <td>0.000000</td>\n    </tr>\n    <tr>\n      <th>75%</th>\n      <td>1.000000</td>\n      <td>NaN</td>\n      <td>NaN</td>\n      <td>1.000000</td>\n      <td>3.610000</td>\n      <td>1.000000</td>\n      <td>NaN</td>\n      <td>199.000000</td>\n      <td>199.000000</td>\n      <td>NaN</td>\n      <td>2.500000</td>\n      <td>7.502746</td>\n      <td>0.000000</td>\n      <td>1.000000</td>\n      <td>31.800000</td>\n      <td>2.500000</td>\n      <td>0.000000</td>\n    </tr>\n    <tr>\n      <th>max</th>\n      <td>2.000000</td>\n      <td>NaN</td>\n      <td>NaN</td>\n      <td>9.000000</td>\n      <td>135182.060000</td>\n      <td>99.000000</td>\n      <td>NaN</td>\n      <td>264.000000</td>\n      <td>264.000000</td>\n      <td>NaN</td>\n      <td>11.750000</td>\n      <td>484.876151</td>\n      <td>80.000000</td>\n      <td>1.000000</td>\n      <td>587.250000</td>\n      <td>2.500000</td>\n      <td>1.750000</td>\n    </tr>\n  </tbody>\n</table>\n</div>"
          },
          "metadata": {}
        }
      ]
    },
    {
      "cell_type": "code",
      "source": [
        "train.nunique()"
      ],
      "metadata": {
        "_uuid": "ab9de80b-7bf3-4018-bdfd-a22604104e36",
        "_cell_guid": "84d9bf68-0ac9-4d24-bdc0-d0fafe1fda64",
        "jupyter": {
          "outputs_hidden": false
        },
        "execution": {
          "iopub.status.busy": "2023-12-18T05:50:06.001333Z",
          "iopub.execute_input": "2023-12-18T05:50:06.001830Z",
          "iopub.status.idle": "2023-12-18T05:50:06.160877Z",
          "shell.execute_reply.started": "2023-12-18T05:50:06.001791Z",
          "shell.execute_reply": "2023-12-18T05:50:06.159531Z"
        },
        "trusted": true,
        "id": "SG6HyDDptLB-",
        "outputId": "f9d48db8-3835-4c78-b22e-9a2f21b8d419"
      },
      "execution_count": null,
      "outputs": [
        {
          "execution_count": 7,
          "output_type": "execute_result",
          "data": {
            "text/plain": "VendorID                      3\ntpep_pickup_datetime     109877\ntpep_dropoff_datetime    109713\npassenger_count               9\ntrip_distance              2929\nRatecodeID                    6\nstore_and_fwd_flag            2\nPULocationID                264\nDOLocationID                264\npayment_type                  5\nextra                        28\ntip_amount               175000\ntolls_amount                214\nimprovement_surcharge         4\ntotal_amount               8164\ncongestion_surcharge          3\nAirport_fee                   3\ndtype: int64"
          },
          "metadata": {}
        }
      ]
    },
    {
      "cell_type": "markdown",
      "source": [
        "Column information from Kaggle and info:\n",
        "\n",
        "* total_amount: The total amount paid by the traveler for the taxi ride - target\n",
        "* VendorID: An identifier for taxi vendors - 0,1,2\n",
        "* tpep_pickup_datetime and tpep_dropoff_datetime: Timestamps indicating pickup and dropoff times - datetime object\n",
        "* passenger_count: The number of passengers during the ride\n",
        "* trip_distance: The distance traveled during the trip\n",
        "* RatecodeID: Rate code for the ride\n",
        "* store_and_fwd_flag: A flag indicating whether the trip data was stored and forwarded\n",
        "* PULocationID and DOLocationID: Pickup and dropoff location identifiers\n",
        "* payment_type: Payment type used for the ride\n",
        "\n",
        "\n",
        "Problems:\n",
        "1. Negative amounts in extra, tolls_amount, improvement_surcharge, congestion_surcharge, Airport_fee and total_amount\n",
        "2. Some entries have earlier dropoff time than pickup time\n",
        "3. Null values"
      ],
      "metadata": {
        "_uuid": "f08e6494-b449-4da2-be04-aa94ec86dda6",
        "_cell_guid": "295c5b79-88d7-4f32-a950-c5be033d45e0",
        "trusted": true,
        "id": "YmjqCekPtLB_"
      }
    },
    {
      "cell_type": "code",
      "source": [
        "test.info()"
      ],
      "metadata": {
        "_uuid": "116102f0-5415-4771-af75-5ecb70b59bb2",
        "_cell_guid": "c8e171fe-e9fd-4fe2-bbd8-d286fc5f30c6",
        "id": "--KVGnRryugF",
        "outputId": "4dd3d04a-e993-4b64-a06d-671e58c955d9",
        "jupyter": {
          "outputs_hidden": false
        },
        "execution": {
          "iopub.status.busy": "2023-12-18T05:50:10.225958Z",
          "iopub.execute_input": "2023-12-18T05:50:10.226360Z",
          "iopub.status.idle": "2023-12-18T05:50:10.252458Z",
          "shell.execute_reply.started": "2023-12-18T05:50:10.226326Z",
          "shell.execute_reply": "2023-12-18T05:50:10.251274Z"
        },
        "trusted": true
      },
      "execution_count": null,
      "outputs": [
        {
          "name": "stdout",
          "text": "<class 'pandas.core.frame.DataFrame'>\nRangeIndex: 50000 entries, 0 to 49999\nData columns (total 16 columns):\n #   Column                 Non-Null Count  Dtype  \n---  ------                 --------------  -----  \n 0   VendorID               50000 non-null  int64  \n 1   tpep_pickup_datetime   50000 non-null  object \n 2   tpep_dropoff_datetime  50000 non-null  object \n 3   passenger_count        48221 non-null  float64\n 4   trip_distance          50000 non-null  float64\n 5   RatecodeID             48221 non-null  float64\n 6   store_and_fwd_flag     48221 non-null  object \n 7   PULocationID           50000 non-null  int64  \n 8   DOLocationID           50000 non-null  int64  \n 9   payment_type           50000 non-null  object \n 10  extra                  50000 non-null  float64\n 11  tip_amount             50000 non-null  float64\n 12  tolls_amount           50000 non-null  float64\n 13  improvement_surcharge  50000 non-null  float64\n 14  congestion_surcharge   48221 non-null  float64\n 15  Airport_fee            48221 non-null  float64\ndtypes: float64(9), int64(3), object(4)\nmemory usage: 6.1+ MB\n",
          "output_type": "stream"
        }
      ]
    },
    {
      "cell_type": "markdown",
      "source": [
        "Test data also has null values"
      ],
      "metadata": {
        "_uuid": "87314794-eb86-4ed7-bc1c-2e97fc02568b",
        "_cell_guid": "08b30327-ccc9-4fa8-8fe1-89339f780754",
        "trusted": true,
        "id": "Cl-0kwDrtLCB"
      }
    },
    {
      "cell_type": "markdown",
      "source": [
        "# Preprocessing and feature extraction\n",
        "1. Datetime shuffle for earlier dropoff than pickup\n",
        "2. Further analysis for feature extraction from datetime\n",
        "3. Object dtype columns to numerical-encoding\n",
        "4. Null values - imputation"
      ],
      "metadata": {
        "_uuid": "e60eeb28-4533-461f-a3bc-a732df97defa",
        "_cell_guid": "fdba4738-2161-4487-84be-f8bffc9370df",
        "id": "wQ42ZlaOUhPu",
        "trusted": true
      }
    },
    {
      "cell_type": "markdown",
      "source": [
        "## Analysis using train data"
      ],
      "metadata": {
        "_uuid": "67df548f-223a-4f80-bf15-c40e3109231b",
        "_cell_guid": "10b8389a-29f4-4cdd-83cd-1bb12df31d54",
        "id": "pXyv64Uy1q7X",
        "trusted": true
      }
    },
    {
      "cell_type": "code",
      "source": [
        "train_for_analysis = train.copy()"
      ],
      "metadata": {
        "_uuid": "f38f6036-aea5-408b-ac53-5d30fe47303e",
        "_cell_guid": "1099811a-3331-4e66-b7b0-460862523a45",
        "id": "hSGxAAiX45ew",
        "jupyter": {
          "outputs_hidden": false
        },
        "execution": {
          "iopub.status.busy": "2023-12-18T05:50:13.667370Z",
          "iopub.execute_input": "2023-12-18T05:50:13.667902Z",
          "iopub.status.idle": "2023-12-18T05:50:13.687105Z",
          "shell.execute_reply.started": "2023-12-18T05:50:13.667867Z",
          "shell.execute_reply": "2023-12-18T05:50:13.686116Z"
        },
        "trusted": true
      },
      "execution_count": null,
      "outputs": []
    },
    {
      "cell_type": "markdown",
      "source": [
        "## 1. Datetime shuffle for earlier dropoff than pickup"
      ],
      "metadata": {
        "_uuid": "45a2c090-2cc1-4e6d-989d-e2171a81a007",
        "_cell_guid": "1876b7c3-a9d0-475f-ba75-95592ca9f2b0",
        "id": "hLcJ-MuMSpeD",
        "trusted": true
      }
    },
    {
      "cell_type": "code",
      "source": [
        "#convert datetime columns to datetime objects\n",
        "train_for_analysis['tpep_pickup_datetime'] = pd.to_datetime(train_for_analysis['tpep_pickup_datetime'])\n",
        "train_for_analysis['tpep_dropoff_datetime'] = pd.to_datetime(train_for_analysis['tpep_dropoff_datetime'])\n",
        "\n",
        "#newcolumn for checking chronology correctness of pickup and dropoff\n",
        "train_for_analysis['incorrect_pickup_dropoff'] = (train_for_analysis['tpep_pickup_datetime'] > train_for_analysis['tpep_dropoff_datetime']).astype(int)\n",
        "\n",
        "#swapping pickup and dropoff times for wrong entries\n",
        "train_for_analysis['tpep_pickup_datetime_copy'] = train_for_analysis['tpep_pickup_datetime'] #copy to use later\n",
        "train_for_analysis.loc[train_for_analysis.incorrect_pickup_dropoff == 1,'tpep_pickup_datetime'] = train_for_analysis[train_for_analysis.incorrect_pickup_dropoff==1]['tpep_dropoff_datetime'] #first swap\n",
        "train_for_analysis.loc[train_for_analysis.incorrect_pickup_dropoff == 1,'tpep_dropoff_datetime'] = train_for_analysis[train_for_analysis.incorrect_pickup_dropoff==1]['tpep_pickup_datetime_copy'] #second swap using previously saved copy\n",
        "train_for_analysis = train_for_analysis.drop(columns=['tpep_pickup_datetime_copy']) #deleting the copy"
      ],
      "metadata": {
        "_uuid": "db3f307f-45b3-457f-bf2c-252eddbf0223",
        "_cell_guid": "e4e99401-5fdf-4c25-86cb-fd6737768f58",
        "jupyter": {
          "outputs_hidden": false
        },
        "execution": {
          "iopub.status.busy": "2023-12-18T05:50:16.265884Z",
          "iopub.execute_input": "2023-12-18T05:50:16.267066Z",
          "iopub.status.idle": "2023-12-18T05:50:16.447442Z",
          "shell.execute_reply.started": "2023-12-18T05:50:16.267019Z",
          "shell.execute_reply": "2023-12-18T05:50:16.446150Z"
        },
        "trusted": true,
        "id": "VkIT4ahqtLCC"
      },
      "execution_count": null,
      "outputs": []
    },
    {
      "cell_type": "code",
      "source": [
        "train_for_analysis.head()"
      ],
      "metadata": {
        "_uuid": "d41f665d-f6c7-414e-b4d2-b6fc26a0ff78",
        "_cell_guid": "a698d03a-6d55-417d-8f96-6288d3a37708",
        "jupyter": {
          "outputs_hidden": false
        },
        "execution": {
          "iopub.status.busy": "2023-12-18T05:50:19.710792Z",
          "iopub.execute_input": "2023-12-18T05:50:19.711196Z",
          "iopub.status.idle": "2023-12-18T05:50:19.733949Z",
          "shell.execute_reply.started": "2023-12-18T05:50:19.711163Z",
          "shell.execute_reply": "2023-12-18T05:50:19.732853Z"
        },
        "trusted": true,
        "id": "h2FVPARttLCC",
        "outputId": "529bca05-563c-477b-9297-2841bab13372"
      },
      "execution_count": null,
      "outputs": [
        {
          "execution_count": 11,
          "output_type": "execute_result",
          "data": {
            "text/plain": "   VendorID tpep_pickup_datetime tpep_dropoff_datetime  passenger_count  \\\n0         1  2023-06-28 16:34:45   2023-06-28 17:20:21              1.0   \n1         0  2023-06-29 22:01:35   2023-06-29 23:05:01              1.0   \n2         1  2023-06-30 10:19:31   2023-06-30 11:13:10              1.0   \n3         0  2023-06-29 13:23:09   2023-06-29 14:20:01              1.0   \n4         1  2023-06-29 22:03:32   2023-06-29 22:22:22              3.0   \n\n   trip_distance  RatecodeID store_and_fwd_flag  PULocationID  DOLocationID  \\\n0           2.14         1.0                  N           120             9   \n1           2.70         1.0                  N            15           215   \n2           1.15         1.0                  N           167           223   \n3           0.40         1.0                  N           128           239   \n4           1.10         1.0                  N           203            52   \n\n  payment_type  extra  tip_amount  tolls_amount  improvement_surcharge  \\\n0  Credit Card    2.5    7.165589           0.0                    1.0   \n1  Credit Card    3.5    6.067401           0.0                    1.0   \n2  Credit Card    0.0    4.111547           0.0                    1.0   \n3  Credit Card    2.5    6.411079           0.0                    1.0   \n4  Credit Card    1.0    4.769377           0.0                    1.0   \n\n   total_amount  congestion_surcharge  Airport_fee  incorrect_pickup_dropoff  \n0         20.64                   2.5          0.0                         1  \n1         25.55                   2.5          0.0                         1  \n2         17.64                   2.5          0.0                         0  \n3         12.80                   2.5          0.0                         0  \n4         18.00                   2.5          0.0                         0  ",
            "text/html": "<div>\n<style scoped>\n    .dataframe tbody tr th:only-of-type {\n        vertical-align: middle;\n    }\n\n    .dataframe tbody tr th {\n        vertical-align: top;\n    }\n\n    .dataframe thead th {\n        text-align: right;\n    }\n</style>\n<table border=\"1\" class=\"dataframe\">\n  <thead>\n    <tr style=\"text-align: right;\">\n      <th></th>\n      <th>VendorID</th>\n      <th>tpep_pickup_datetime</th>\n      <th>tpep_dropoff_datetime</th>\n      <th>passenger_count</th>\n      <th>trip_distance</th>\n      <th>RatecodeID</th>\n      <th>store_and_fwd_flag</th>\n      <th>PULocationID</th>\n      <th>DOLocationID</th>\n      <th>payment_type</th>\n      <th>extra</th>\n      <th>tip_amount</th>\n      <th>tolls_amount</th>\n      <th>improvement_surcharge</th>\n      <th>total_amount</th>\n      <th>congestion_surcharge</th>\n      <th>Airport_fee</th>\n      <th>incorrect_pickup_dropoff</th>\n    </tr>\n  </thead>\n  <tbody>\n    <tr>\n      <th>0</th>\n      <td>1</td>\n      <td>2023-06-28 16:34:45</td>\n      <td>2023-06-28 17:20:21</td>\n      <td>1.0</td>\n      <td>2.14</td>\n      <td>1.0</td>\n      <td>N</td>\n      <td>120</td>\n      <td>9</td>\n      <td>Credit Card</td>\n      <td>2.5</td>\n      <td>7.165589</td>\n      <td>0.0</td>\n      <td>1.0</td>\n      <td>20.64</td>\n      <td>2.5</td>\n      <td>0.0</td>\n      <td>1</td>\n    </tr>\n    <tr>\n      <th>1</th>\n      <td>0</td>\n      <td>2023-06-29 22:01:35</td>\n      <td>2023-06-29 23:05:01</td>\n      <td>1.0</td>\n      <td>2.70</td>\n      <td>1.0</td>\n      <td>N</td>\n      <td>15</td>\n      <td>215</td>\n      <td>Credit Card</td>\n      <td>3.5</td>\n      <td>6.067401</td>\n      <td>0.0</td>\n      <td>1.0</td>\n      <td>25.55</td>\n      <td>2.5</td>\n      <td>0.0</td>\n      <td>1</td>\n    </tr>\n    <tr>\n      <th>2</th>\n      <td>1</td>\n      <td>2023-06-30 10:19:31</td>\n      <td>2023-06-30 11:13:10</td>\n      <td>1.0</td>\n      <td>1.15</td>\n      <td>1.0</td>\n      <td>N</td>\n      <td>167</td>\n      <td>223</td>\n      <td>Credit Card</td>\n      <td>0.0</td>\n      <td>4.111547</td>\n      <td>0.0</td>\n      <td>1.0</td>\n      <td>17.64</td>\n      <td>2.5</td>\n      <td>0.0</td>\n      <td>0</td>\n    </tr>\n    <tr>\n      <th>3</th>\n      <td>0</td>\n      <td>2023-06-29 13:23:09</td>\n      <td>2023-06-29 14:20:01</td>\n      <td>1.0</td>\n      <td>0.40</td>\n      <td>1.0</td>\n      <td>N</td>\n      <td>128</td>\n      <td>239</td>\n      <td>Credit Card</td>\n      <td>2.5</td>\n      <td>6.411079</td>\n      <td>0.0</td>\n      <td>1.0</td>\n      <td>12.80</td>\n      <td>2.5</td>\n      <td>0.0</td>\n      <td>0</td>\n    </tr>\n    <tr>\n      <th>4</th>\n      <td>1</td>\n      <td>2023-06-29 22:03:32</td>\n      <td>2023-06-29 22:22:22</td>\n      <td>3.0</td>\n      <td>1.10</td>\n      <td>1.0</td>\n      <td>N</td>\n      <td>203</td>\n      <td>52</td>\n      <td>Credit Card</td>\n      <td>1.0</td>\n      <td>4.769377</td>\n      <td>0.0</td>\n      <td>1.0</td>\n      <td>18.00</td>\n      <td>2.5</td>\n      <td>0.0</td>\n      <td>0</td>\n    </tr>\n  </tbody>\n</table>\n</div>"
          },
          "metadata": {}
        }
      ]
    },
    {
      "cell_type": "code",
      "source": [
        "#check again for incorrect order\n",
        "train_for_analysis['incorrect_pickup_dropoff_check'] = (train_for_analysis['tpep_pickup_datetime'] > train_for_analysis['tpep_dropoff_datetime']).astype(int)\n",
        "train_for_analysis['incorrect_pickup_dropoff_check'].unique()"
      ],
      "metadata": {
        "_uuid": "b2fc66cc-abac-462a-b9d3-bbe67b1cadc4",
        "_cell_guid": "c5105a20-d250-4029-aa5e-bac172b485dc",
        "jupyter": {
          "outputs_hidden": false
        },
        "execution": {
          "iopub.status.busy": "2023-12-18T05:50:22.690889Z",
          "iopub.execute_input": "2023-12-18T05:50:22.691313Z",
          "iopub.status.idle": "2023-12-18T05:50:22.704828Z",
          "shell.execute_reply.started": "2023-12-18T05:50:22.691281Z",
          "shell.execute_reply": "2023-12-18T05:50:22.703662Z"
        },
        "trusted": true,
        "id": "YzYulBYetLCD",
        "outputId": "db8e0e79-c356-42dd-b562-f488f3840821"
      },
      "execution_count": null,
      "outputs": [
        {
          "execution_count": 12,
          "output_type": "execute_result",
          "data": {
            "text/plain": "array([0])"
          },
          "metadata": {}
        }
      ]
    },
    {
      "cell_type": "markdown",
      "source": [
        "## 2. Further analysis for feature extraction from datetime"
      ],
      "metadata": {
        "_uuid": "61234df6-6356-4338-9054-85bab4be4ec9",
        "_cell_guid": "2e3a8db3-8ae4-4a42-8b4d-07de181e6939",
        "trusted": true,
        "id": "vLRa2FMNtLCD"
      }
    },
    {
      "cell_type": "code",
      "source": [
        "#extracting further information from pickup and dropoff datetimes\n",
        "\n",
        "#travel duration in minutes\n",
        "train_for_analysis['travel_duration'] = (train_for_analysis['tpep_dropoff_datetime'] - train_for_analysis['tpep_pickup_datetime']).dt.total_seconds()/60\n",
        "train_for_analysis['travel_duration'] = train_for_analysis['travel_duration'].round(2)\n",
        "\n",
        "#day of the week (Ref:mon=0;sun=6)\n",
        "train_for_analysis['pickup_day'] = train_for_analysis['tpep_pickup_datetime'].dt.dayofweek\n",
        "\n",
        "#time of the day\n",
        "train_for_analysis['pickup_hour'] = train_for_analysis['tpep_pickup_datetime'].dt.hour\n",
        "train_for_analysis['time_of_day'] = pd.cut(train_for_analysis['pickup_hour'], bins=[-0.5, 6, 12, 18, 24], labels=['0', '1', '2', '3']) #early morning/midnight, morning, afternoon, evening/night"
      ],
      "metadata": {
        "_uuid": "ae527144-58c3-43fe-baac-d52283ebfd28",
        "_cell_guid": "d040eb1a-1ddd-4f88-b622-2f7d3c77f47d",
        "jupyter": {
          "outputs_hidden": false
        },
        "execution": {
          "iopub.status.busy": "2023-12-18T05:50:25.080999Z",
          "iopub.execute_input": "2023-12-18T05:50:25.082202Z",
          "iopub.status.idle": "2023-12-18T05:50:25.142332Z",
          "shell.execute_reply.started": "2023-12-18T05:50:25.082145Z",
          "shell.execute_reply": "2023-12-18T05:50:25.141403Z"
        },
        "trusted": true,
        "id": "cJ25TicYtLCD"
      },
      "execution_count": null,
      "outputs": []
    },
    {
      "cell_type": "code",
      "source": [
        "train_for_analysis.head()"
      ],
      "metadata": {
        "_uuid": "14f29a07-f603-46f3-a10f-f2440f5a1974",
        "_cell_guid": "e52850d0-acfa-4371-9ff3-f87fcd4cad9c",
        "jupyter": {
          "outputs_hidden": false
        },
        "execution": {
          "iopub.status.busy": "2023-12-18T05:50:28.870979Z",
          "iopub.execute_input": "2023-12-18T05:50:28.871392Z",
          "iopub.status.idle": "2023-12-18T05:50:28.899986Z",
          "shell.execute_reply.started": "2023-12-18T05:50:28.871360Z",
          "shell.execute_reply": "2023-12-18T05:50:28.898833Z"
        },
        "trusted": true,
        "id": "znNsOTATtLCE",
        "outputId": "58ec2a72-8327-435c-b317-7b47fb89c517"
      },
      "execution_count": null,
      "outputs": [
        {
          "execution_count": 14,
          "output_type": "execute_result",
          "data": {
            "text/plain": "   VendorID tpep_pickup_datetime tpep_dropoff_datetime  passenger_count  \\\n0         1  2023-06-28 16:34:45   2023-06-28 17:20:21              1.0   \n1         0  2023-06-29 22:01:35   2023-06-29 23:05:01              1.0   \n2         1  2023-06-30 10:19:31   2023-06-30 11:13:10              1.0   \n3         0  2023-06-29 13:23:09   2023-06-29 14:20:01              1.0   \n4         1  2023-06-29 22:03:32   2023-06-29 22:22:22              3.0   \n\n   trip_distance  RatecodeID store_and_fwd_flag  PULocationID  DOLocationID  \\\n0           2.14         1.0                  N           120             9   \n1           2.70         1.0                  N            15           215   \n2           1.15         1.0                  N           167           223   \n3           0.40         1.0                  N           128           239   \n4           1.10         1.0                  N           203            52   \n\n  payment_type  ...  improvement_surcharge  total_amount  \\\n0  Credit Card  ...                    1.0         20.64   \n1  Credit Card  ...                    1.0         25.55   \n2  Credit Card  ...                    1.0         17.64   \n3  Credit Card  ...                    1.0         12.80   \n4  Credit Card  ...                    1.0         18.00   \n\n   congestion_surcharge  Airport_fee  incorrect_pickup_dropoff  \\\n0                   2.5          0.0                         1   \n1                   2.5          0.0                         1   \n2                   2.5          0.0                         0   \n3                   2.5          0.0                         0   \n4                   2.5          0.0                         0   \n\n   incorrect_pickup_dropoff_check  travel_duration  pickup_day  pickup_hour  \\\n0                               0            45.60           2           16   \n1                               0            63.43           3           22   \n2                               0            53.65           4           10   \n3                               0            56.87           3           13   \n4                               0            18.83           3           22   \n\n   time_of_day  \n0            2  \n1            3  \n2            1  \n3            2  \n4            3  \n\n[5 rows x 23 columns]",
            "text/html": "<div>\n<style scoped>\n    .dataframe tbody tr th:only-of-type {\n        vertical-align: middle;\n    }\n\n    .dataframe tbody tr th {\n        vertical-align: top;\n    }\n\n    .dataframe thead th {\n        text-align: right;\n    }\n</style>\n<table border=\"1\" class=\"dataframe\">\n  <thead>\n    <tr style=\"text-align: right;\">\n      <th></th>\n      <th>VendorID</th>\n      <th>tpep_pickup_datetime</th>\n      <th>tpep_dropoff_datetime</th>\n      <th>passenger_count</th>\n      <th>trip_distance</th>\n      <th>RatecodeID</th>\n      <th>store_and_fwd_flag</th>\n      <th>PULocationID</th>\n      <th>DOLocationID</th>\n      <th>payment_type</th>\n      <th>...</th>\n      <th>improvement_surcharge</th>\n      <th>total_amount</th>\n      <th>congestion_surcharge</th>\n      <th>Airport_fee</th>\n      <th>incorrect_pickup_dropoff</th>\n      <th>incorrect_pickup_dropoff_check</th>\n      <th>travel_duration</th>\n      <th>pickup_day</th>\n      <th>pickup_hour</th>\n      <th>time_of_day</th>\n    </tr>\n  </thead>\n  <tbody>\n    <tr>\n      <th>0</th>\n      <td>1</td>\n      <td>2023-06-28 16:34:45</td>\n      <td>2023-06-28 17:20:21</td>\n      <td>1.0</td>\n      <td>2.14</td>\n      <td>1.0</td>\n      <td>N</td>\n      <td>120</td>\n      <td>9</td>\n      <td>Credit Card</td>\n      <td>...</td>\n      <td>1.0</td>\n      <td>20.64</td>\n      <td>2.5</td>\n      <td>0.0</td>\n      <td>1</td>\n      <td>0</td>\n      <td>45.60</td>\n      <td>2</td>\n      <td>16</td>\n      <td>2</td>\n    </tr>\n    <tr>\n      <th>1</th>\n      <td>0</td>\n      <td>2023-06-29 22:01:35</td>\n      <td>2023-06-29 23:05:01</td>\n      <td>1.0</td>\n      <td>2.70</td>\n      <td>1.0</td>\n      <td>N</td>\n      <td>15</td>\n      <td>215</td>\n      <td>Credit Card</td>\n      <td>...</td>\n      <td>1.0</td>\n      <td>25.55</td>\n      <td>2.5</td>\n      <td>0.0</td>\n      <td>1</td>\n      <td>0</td>\n      <td>63.43</td>\n      <td>3</td>\n      <td>22</td>\n      <td>3</td>\n    </tr>\n    <tr>\n      <th>2</th>\n      <td>1</td>\n      <td>2023-06-30 10:19:31</td>\n      <td>2023-06-30 11:13:10</td>\n      <td>1.0</td>\n      <td>1.15</td>\n      <td>1.0</td>\n      <td>N</td>\n      <td>167</td>\n      <td>223</td>\n      <td>Credit Card</td>\n      <td>...</td>\n      <td>1.0</td>\n      <td>17.64</td>\n      <td>2.5</td>\n      <td>0.0</td>\n      <td>0</td>\n      <td>0</td>\n      <td>53.65</td>\n      <td>4</td>\n      <td>10</td>\n      <td>1</td>\n    </tr>\n    <tr>\n      <th>3</th>\n      <td>0</td>\n      <td>2023-06-29 13:23:09</td>\n      <td>2023-06-29 14:20:01</td>\n      <td>1.0</td>\n      <td>0.40</td>\n      <td>1.0</td>\n      <td>N</td>\n      <td>128</td>\n      <td>239</td>\n      <td>Credit Card</td>\n      <td>...</td>\n      <td>1.0</td>\n      <td>12.80</td>\n      <td>2.5</td>\n      <td>0.0</td>\n      <td>0</td>\n      <td>0</td>\n      <td>56.87</td>\n      <td>3</td>\n      <td>13</td>\n      <td>2</td>\n    </tr>\n    <tr>\n      <th>4</th>\n      <td>1</td>\n      <td>2023-06-29 22:03:32</td>\n      <td>2023-06-29 22:22:22</td>\n      <td>3.0</td>\n      <td>1.10</td>\n      <td>1.0</td>\n      <td>N</td>\n      <td>203</td>\n      <td>52</td>\n      <td>Credit Card</td>\n      <td>...</td>\n      <td>1.0</td>\n      <td>18.00</td>\n      <td>2.5</td>\n      <td>0.0</td>\n      <td>0</td>\n      <td>0</td>\n      <td>18.83</td>\n      <td>3</td>\n      <td>22</td>\n      <td>3</td>\n    </tr>\n  </tbody>\n</table>\n<p>5 rows × 23 columns</p>\n</div>"
          },
          "metadata": {}
        }
      ]
    },
    {
      "cell_type": "code",
      "source": [
        "# Scatter plot for duration vs distance\n",
        "plt.scatter(train_for_analysis['travel_duration'], train_for_analysis['trip_distance'], alpha=0.5)\n",
        "\n",
        "# Set labels and title\n",
        "plt.xlabel('Travel Duration (minutes)')\n",
        "plt.ylabel('Trip Distance')\n",
        "plt.title('Scatter Plot: Travel Duration vs. Trip Distance')\n",
        "\n",
        "# Show the plot\n",
        "plt.show()"
      ],
      "metadata": {
        "_uuid": "5e558fbc-520f-46e8-a0a3-45855100cd5d",
        "_cell_guid": "074c6ee7-6972-4f64-8211-c84b12a6d933",
        "jupyter": {
          "outputs_hidden": false
        },
        "execution": {
          "iopub.status.busy": "2023-12-18T05:50:30.961159Z",
          "iopub.execute_input": "2023-12-18T05:50:30.961535Z",
          "iopub.status.idle": "2023-12-18T05:50:31.740660Z",
          "shell.execute_reply.started": "2023-12-18T05:50:30.961505Z",
          "shell.execute_reply": "2023-12-18T05:50:31.739702Z"
        },
        "trusted": true,
        "id": "-5MD8gFMtLCE",
        "outputId": "9037fa40-65b3-4a85-e1bd-0c0a6dcadc16"
      },
      "execution_count": null,
      "outputs": [
        {
          "output_type": "display_data",
          "data": {
            "text/plain": "<Figure size 640x480 with 1 Axes>",
            "image/png": "[encoded data removed]"
          },
          "metadata": {}
        }
      ]
    },
    {
      "cell_type": "markdown",
      "source": [
        "Travel duration and trip distance are expected to be directly proportional but the above graph doesnt reflect so. So the only information to be taken from pickup and dropoff times are day of the week and time of the day."
      ],
      "metadata": {
        "_uuid": "cbfc8663-705f-47f3-a3b1-9747abfe7af9",
        "_cell_guid": "42915ce6-e99b-49fe-b217-35fab604f4bc",
        "id": "LQMcBOKxm20T",
        "trusted": true
      }
    },
    {
      "cell_type": "code",
      "source": [
        "train_for_analysis = train_for_analysis.drop(columns = ['incorrect_pickup_dropoff', 'tpep_pickup_datetime', 'tpep_dropoff_datetime', 'pickup_hour']) #dropping copy and extra columns that are not needed anymore"
      ],
      "metadata": {
        "_uuid": "13dfb916-222a-47a7-95af-877a7ad8dbf4",
        "_cell_guid": "0edd6276-a36b-4712-807e-025e3e5f6309",
        "jupyter": {
          "outputs_hidden": false
        },
        "execution": {
          "iopub.status.busy": "2023-12-18T05:50:35.542843Z",
          "iopub.execute_input": "2023-12-18T05:50:35.543783Z",
          "iopub.status.idle": "2023-12-18T05:50:35.563806Z",
          "shell.execute_reply.started": "2023-12-18T05:50:35.543746Z",
          "shell.execute_reply": "2023-12-18T05:50:35.562521Z"
        },
        "trusted": true,
        "id": "6fJv45CUtLCE"
      },
      "execution_count": null,
      "outputs": []
    },
    {
      "cell_type": "code",
      "source": [
        "train_for_analysis.head()"
      ],
      "metadata": {
        "_uuid": "853cb814-d9aa-4b5d-9748-5e5ef85b663b",
        "_cell_guid": "093ef1b4-c196-4785-afc1-f116ea54335f",
        "jupyter": {
          "outputs_hidden": false
        },
        "execution": {
          "iopub.status.busy": "2023-12-18T05:50:38.700998Z",
          "iopub.execute_input": "2023-12-18T05:50:38.701415Z",
          "iopub.status.idle": "2023-12-18T05:50:38.728659Z",
          "shell.execute_reply.started": "2023-12-18T05:50:38.701383Z",
          "shell.execute_reply": "2023-12-18T05:50:38.727413Z"
        },
        "trusted": true,
        "id": "9OFHQcpVtLCF",
        "outputId": "4fdeee3f-f8ab-452d-8930-031505d6518a"
      },
      "execution_count": null,
      "outputs": [
        {
          "execution_count": 17,
          "output_type": "execute_result",
          "data": {
            "text/plain": "   VendorID  passenger_count  trip_distance  RatecodeID store_and_fwd_flag  \\\n0         1              1.0           2.14         1.0                  N   \n1         0              1.0           2.70         1.0                  N   \n2         1              1.0           1.15         1.0                  N   \n3         0              1.0           0.40         1.0                  N   \n4         1              3.0           1.10         1.0                  N   \n\n   PULocationID  DOLocationID payment_type  extra  tip_amount  tolls_amount  \\\n0           120             9  Credit Card    2.5    7.165589           0.0   \n1            15           215  Credit Card    3.5    6.067401           0.0   \n2           167           223  Credit Card    0.0    4.111547           0.0   \n3           128           239  Credit Card    2.5    6.411079           0.0   \n4           203            52  Credit Card    1.0    4.769377           0.0   \n\n   improvement_surcharge  total_amount  congestion_surcharge  Airport_fee  \\\n0                    1.0         20.64                   2.5          0.0   \n1                    1.0         25.55                   2.5          0.0   \n2                    1.0         17.64                   2.5          0.0   \n3                    1.0         12.80                   2.5          0.0   \n4                    1.0         18.00                   2.5          0.0   \n\n   incorrect_pickup_dropoff_check  travel_duration  pickup_day time_of_day  \n0                               0            45.60           2           2  \n1                               0            63.43           3           3  \n2                               0            53.65           4           1  \n3                               0            56.87           3           2  \n4                               0            18.83           3           3  ",
            "text/html": "<div>\n<style scoped>\n    .dataframe tbody tr th:only-of-type {\n        vertical-align: middle;\n    }\n\n    .dataframe tbody tr th {\n        vertical-align: top;\n    }\n\n    .dataframe thead th {\n        text-align: right;\n    }\n</style>\n<table border=\"1\" class=\"dataframe\">\n  <thead>\n    <tr style=\"text-align: right;\">\n      <th></th>\n      <th>VendorID</th>\n      <th>passenger_count</th>\n      <th>trip_distance</th>\n      <th>RatecodeID</th>\n      <th>store_and_fwd_flag</th>\n      <th>PULocationID</th>\n      <th>DOLocationID</th>\n      <th>payment_type</th>\n      <th>extra</th>\n      <th>tip_amount</th>\n      <th>tolls_amount</th>\n      <th>improvement_surcharge</th>\n      <th>total_amount</th>\n      <th>congestion_surcharge</th>\n      <th>Airport_fee</th>\n      <th>incorrect_pickup_dropoff_check</th>\n      <th>travel_duration</th>\n      <th>pickup_day</th>\n      <th>time_of_day</th>\n    </tr>\n  </thead>\n  <tbody>\n    <tr>\n      <th>0</th>\n      <td>1</td>\n      <td>1.0</td>\n      <td>2.14</td>\n      <td>1.0</td>\n      <td>N</td>\n      <td>120</td>\n      <td>9</td>\n      <td>Credit Card</td>\n      <td>2.5</td>\n      <td>7.165589</td>\n      <td>0.0</td>\n      <td>1.0</td>\n      <td>20.64</td>\n      <td>2.5</td>\n      <td>0.0</td>\n      <td>0</td>\n      <td>45.60</td>\n      <td>2</td>\n      <td>2</td>\n    </tr>\n    <tr>\n      <th>1</th>\n      <td>0</td>\n      <td>1.0</td>\n      <td>2.70</td>\n      <td>1.0</td>\n      <td>N</td>\n      <td>15</td>\n      <td>215</td>\n      <td>Credit Card</td>\n      <td>3.5</td>\n      <td>6.067401</td>\n      <td>0.0</td>\n      <td>1.0</td>\n      <td>25.55</td>\n      <td>2.5</td>\n      <td>0.0</td>\n      <td>0</td>\n      <td>63.43</td>\n      <td>3</td>\n      <td>3</td>\n    </tr>\n    <tr>\n      <th>2</th>\n      <td>1</td>\n      <td>1.0</td>\n      <td>1.15</td>\n      <td>1.0</td>\n      <td>N</td>\n      <td>167</td>\n      <td>223</td>\n      <td>Credit Card</td>\n      <td>0.0</td>\n      <td>4.111547</td>\n      <td>0.0</td>\n      <td>1.0</td>\n      <td>17.64</td>\n      <td>2.5</td>\n      <td>0.0</td>\n      <td>0</td>\n      <td>53.65</td>\n      <td>4</td>\n      <td>1</td>\n    </tr>\n    <tr>\n      <th>3</th>\n      <td>0</td>\n      <td>1.0</td>\n      <td>0.40</td>\n      <td>1.0</td>\n      <td>N</td>\n      <td>128</td>\n      <td>239</td>\n      <td>Credit Card</td>\n      <td>2.5</td>\n      <td>6.411079</td>\n      <td>0.0</td>\n      <td>1.0</td>\n      <td>12.80</td>\n      <td>2.5</td>\n      <td>0.0</td>\n      <td>0</td>\n      <td>56.87</td>\n      <td>3</td>\n      <td>2</td>\n    </tr>\n    <tr>\n      <th>4</th>\n      <td>1</td>\n      <td>3.0</td>\n      <td>1.10</td>\n      <td>1.0</td>\n      <td>N</td>\n      <td>203</td>\n      <td>52</td>\n      <td>Credit Card</td>\n      <td>1.0</td>\n      <td>4.769377</td>\n      <td>0.0</td>\n      <td>1.0</td>\n      <td>18.00</td>\n      <td>2.5</td>\n      <td>0.0</td>\n      <td>0</td>\n      <td>18.83</td>\n      <td>3</td>\n      <td>3</td>\n    </tr>\n  </tbody>\n</table>\n</div>"
          },
          "metadata": {}
        }
      ]
    },
    {
      "cell_type": "markdown",
      "source": [
        "### Pipeline for datetime feature"
      ],
      "metadata": {
        "_uuid": "9243ee0a-8411-423a-8ff6-ebc51a425d81",
        "_cell_guid": "7f81d05f-dcd2-4e12-8eaa-8e2b4701282b",
        "id": "j5x-2MAh4E3A",
        "trusted": true
      }
    },
    {
      "cell_type": "code",
      "source": [
        "def datetime_clean(df):\n",
        "  #convert datetime columns to datetime objects\n",
        "  df['tpep_pickup_datetime'] = pd.to_datetime(df['tpep_pickup_datetime'])\n",
        "  df['tpep_dropoff_datetime'] = pd.to_datetime(df['tpep_dropoff_datetime'])\n",
        "\n",
        "  #newcolumn for checking chronology correctness of pickup and dropoff\n",
        "  df['incorrect_pickup_dropoff'] = (df['tpep_pickup_datetime'] > df['tpep_dropoff_datetime']).astype(int)\n",
        "\n",
        "  #swapping pickup and dropoff times for wrong entries\n",
        "  df['tpep_pickup_datetime_copy'] = df['tpep_pickup_datetime'] #copy to use later\n",
        "  df.loc[df.incorrect_pickup_dropoff == 1,'tpep_pickup_datetime'] = df[df.incorrect_pickup_dropoff==1]['tpep_dropoff_datetime'] #first swap\n",
        "  df.loc[df.incorrect_pickup_dropoff == 1,'tpep_dropoff_datetime'] = df[df.incorrect_pickup_dropoff==1]['tpep_pickup_datetime_copy'] #second swap using previously saved copy\n",
        "  df = df.drop(columns = ['tpep_pickup_datetime_copy', 'incorrect_pickup_dropoff']) #dropping copy and extra columns that are not needed anymore\n",
        "\n",
        "  #extracting further information from pickup and dropoff datetimes\n",
        "  #day of the week (Ref:mon=0;sun=6)\n",
        "  df['pickup_day'] = df['tpep_pickup_datetime'].dt.dayofweek\n",
        "\n",
        "  #time of the day\n",
        "  df['pickup_hour'] = df['tpep_pickup_datetime'].dt.hour\n",
        "  df['time_of_day'] = pd.cut(df['pickup_hour'], bins=[-0.5, 6, 12, 18, 24], labels=['0', '1', '2', '3']) #early morning/midnight, morning, afternoon, evening/night\n",
        "  df = df.drop(columns=['tpep_pickup_datetime', 'tpep_dropoff_datetime', 'pickup_hour'])\n",
        "\n",
        "  return df"
      ],
      "metadata": {
        "_uuid": "49487fcc-cea4-4da4-bdc5-0090ce59847d",
        "_cell_guid": "c37e988b-c1ca-4fd1-a2a9-d8539f04ef01",
        "jupyter": {
          "outputs_hidden": false
        },
        "execution": {
          "iopub.status.busy": "2023-12-18T05:50:50.685947Z",
          "iopub.execute_input": "2023-12-18T05:50:50.686333Z",
          "iopub.status.idle": "2023-12-18T05:50:50.697300Z",
          "shell.execute_reply.started": "2023-12-18T05:50:50.686303Z",
          "shell.execute_reply": "2023-12-18T05:50:50.696297Z"
        },
        "trusted": true,
        "id": "TSegUZtJtLCF"
      },
      "execution_count": null,
      "outputs": []
    },
    {
      "cell_type": "markdown",
      "source": [
        "## 3. Encoding"
      ],
      "metadata": {
        "_uuid": "52d7c797-443c-4b23-8531-fe9649cae9bc",
        "_cell_guid": "e769be7f-e394-41fd-b047-5d7e662a0aef",
        "id": "ZpwIrJDH76Ya",
        "trusted": true
      }
    },
    {
      "cell_type": "code",
      "source": [
        "def encoding(df):\n",
        "  df['store_and_fwd_flag'] = df['store_and_fwd_flag'].replace({'Y': 1, 'N': 0})\n",
        "  df['payment_type'] = df['payment_type'].replace({'Credit Card': 1, 'Cash': 2, 'Wallet': 3, 'UPI': 4, 'unknown': 0})\n",
        "  return df"
      ],
      "metadata": {
        "_uuid": "d182a049-9746-4ba2-91f5-5326b355e10d",
        "_cell_guid": "e80b3ed1-ff59-4384-832e-0fe2208cd10c",
        "id": "NE613Ed731EV",
        "jupyter": {
          "outputs_hidden": false
        },
        "execution": {
          "iopub.status.busy": "2023-12-18T05:50:53.880854Z",
          "iopub.execute_input": "2023-12-18T05:50:53.881343Z",
          "iopub.status.idle": "2023-12-18T05:50:53.887253Z",
          "shell.execute_reply.started": "2023-12-18T05:50:53.881306Z",
          "shell.execute_reply": "2023-12-18T05:50:53.886096Z"
        },
        "trusted": true
      },
      "execution_count": null,
      "outputs": []
    },
    {
      "cell_type": "code",
      "source": [
        "train_for_analysis = encoding(train_for_analysis)\n",
        "train_for_analysis.head()"
      ],
      "metadata": {
        "_uuid": "484fef88-54bd-40ad-9b6e-26a93c6cce92",
        "_cell_guid": "0fb6705c-f53d-4e8a-978d-801401dd22d5",
        "jupyter": {
          "outputs_hidden": false
        },
        "execution": {
          "iopub.status.busy": "2023-12-18T05:50:55.940672Z",
          "iopub.execute_input": "2023-12-18T05:50:55.941104Z",
          "iopub.status.idle": "2023-12-18T05:50:56.107947Z",
          "shell.execute_reply.started": "2023-12-18T05:50:55.941070Z",
          "shell.execute_reply": "2023-12-18T05:50:56.106842Z"
        },
        "trusted": true,
        "id": "rqeGu5jhtLCG",
        "outputId": "72ef0e1c-147f-4e04-debc-6130549c09c5"
      },
      "execution_count": null,
      "outputs": [
        {
          "execution_count": 20,
          "output_type": "execute_result",
          "data": {
            "text/plain": "   VendorID  passenger_count  trip_distance  RatecodeID  store_and_fwd_flag  \\\n0         1              1.0           2.14         1.0                 0.0   \n1         0              1.0           2.70         1.0                 0.0   \n2         1              1.0           1.15         1.0                 0.0   \n3         0              1.0           0.40         1.0                 0.0   \n4         1              3.0           1.10         1.0                 0.0   \n\n   PULocationID  DOLocationID  payment_type  extra  tip_amount  tolls_amount  \\\n0           120             9             1    2.5    7.165589           0.0   \n1            15           215             1    3.5    6.067401           0.0   \n2           167           223             1    0.0    4.111547           0.0   \n3           128           239             1    2.5    6.411079           0.0   \n4           203            52             1    1.0    4.769377           0.0   \n\n   improvement_surcharge  total_amount  congestion_surcharge  Airport_fee  \\\n0                    1.0         20.64                   2.5          0.0   \n1                    1.0         25.55                   2.5          0.0   \n2                    1.0         17.64                   2.5          0.0   \n3                    1.0         12.80                   2.5          0.0   \n4                    1.0         18.00                   2.5          0.0   \n\n   incorrect_pickup_dropoff_check  travel_duration  pickup_day time_of_day  \n0                               0            45.60           2           2  \n1                               0            63.43           3           3  \n2                               0            53.65           4           1  \n3                               0            56.87           3           2  \n4                               0            18.83           3           3  ",
            "text/html": "<div>\n<style scoped>\n    .dataframe tbody tr th:only-of-type {\n        vertical-align: middle;\n    }\n\n    .dataframe tbody tr th {\n        vertical-align: top;\n    }\n\n    .dataframe thead th {\n        text-align: right;\n    }\n</style>\n<table border=\"1\" class=\"dataframe\">\n  <thead>\n    <tr style=\"text-align: right;\">\n      <th></th>\n      <th>VendorID</th>\n      <th>passenger_count</th>\n      <th>trip_distance</th>\n      <th>RatecodeID</th>\n      <th>store_and_fwd_flag</th>\n      <th>PULocationID</th>\n      <th>DOLocationID</th>\n      <th>payment_type</th>\n      <th>extra</th>\n      <th>tip_amount</th>\n      <th>tolls_amount</th>\n      <th>improvement_surcharge</th>\n      <th>total_amount</th>\n      <th>congestion_surcharge</th>\n      <th>Airport_fee</th>\n      <th>incorrect_pickup_dropoff_check</th>\n      <th>travel_duration</th>\n      <th>pickup_day</th>\n      <th>time_of_day</th>\n    </tr>\n  </thead>\n  <tbody>\n    <tr>\n      <th>0</th>\n      <td>1</td>\n      <td>1.0</td>\n      <td>2.14</td>\n      <td>1.0</td>\n      <td>0.0</td>\n      <td>120</td>\n      <td>9</td>\n      <td>1</td>\n      <td>2.5</td>\n      <td>7.165589</td>\n      <td>0.0</td>\n      <td>1.0</td>\n      <td>20.64</td>\n      <td>2.5</td>\n      <td>0.0</td>\n      <td>0</td>\n      <td>45.60</td>\n      <td>2</td>\n      <td>2</td>\n    </tr>\n    <tr>\n      <th>1</th>\n      <td>0</td>\n      <td>1.0</td>\n      <td>2.70</td>\n      <td>1.0</td>\n      <td>0.0</td>\n      <td>15</td>\n      <td>215</td>\n      <td>1</td>\n      <td>3.5</td>\n      <td>6.067401</td>\n      <td>0.0</td>\n      <td>1.0</td>\n      <td>25.55</td>\n      <td>2.5</td>\n      <td>0.0</td>\n      <td>0</td>\n      <td>63.43</td>\n      <td>3</td>\n      <td>3</td>\n    </tr>\n    <tr>\n      <th>2</th>\n      <td>1</td>\n      <td>1.0</td>\n      <td>1.15</td>\n      <td>1.0</td>\n      <td>0.0</td>\n      <td>167</td>\n      <td>223</td>\n      <td>1</td>\n      <td>0.0</td>\n      <td>4.111547</td>\n      <td>0.0</td>\n      <td>1.0</td>\n      <td>17.64</td>\n      <td>2.5</td>\n      <td>0.0</td>\n      <td>0</td>\n      <td>53.65</td>\n      <td>4</td>\n      <td>1</td>\n    </tr>\n    <tr>\n      <th>3</th>\n      <td>0</td>\n      <td>1.0</td>\n      <td>0.40</td>\n      <td>1.0</td>\n      <td>0.0</td>\n      <td>128</td>\n      <td>239</td>\n      <td>1</td>\n      <td>2.5</td>\n      <td>6.411079</td>\n      <td>0.0</td>\n      <td>1.0</td>\n      <td>12.80</td>\n      <td>2.5</td>\n      <td>0.0</td>\n      <td>0</td>\n      <td>56.87</td>\n      <td>3</td>\n      <td>2</td>\n    </tr>\n    <tr>\n      <th>4</th>\n      <td>1</td>\n      <td>3.0</td>\n      <td>1.10</td>\n      <td>1.0</td>\n      <td>0.0</td>\n      <td>203</td>\n      <td>52</td>\n      <td>1</td>\n      <td>1.0</td>\n      <td>4.769377</td>\n      <td>0.0</td>\n      <td>1.0</td>\n      <td>18.00</td>\n      <td>2.5</td>\n      <td>0.0</td>\n      <td>0</td>\n      <td>18.83</td>\n      <td>3</td>\n      <td>3</td>\n    </tr>\n  </tbody>\n</table>\n</div>"
          },
          "metadata": {}
        }
      ]
    },
    {
      "cell_type": "markdown",
      "source": [
        "## 4. Null values - imputation"
      ],
      "metadata": {
        "_uuid": "3dc5fb96-68aa-4d12-9d88-a917f029d18c",
        "_cell_guid": "b1aff7f3-5c6a-4da0-af4a-8b129b16ba2e",
        "trusted": true,
        "id": "geOI0w2wtLCG"
      }
    },
    {
      "cell_type": "code",
      "source": [
        "train.isnull().sum() #null values"
      ],
      "metadata": {
        "_uuid": "40fff814-4998-483a-af81-afa9ca6457a6",
        "_cell_guid": "760ac5e6-6a99-4975-b0b3-9f6dc4de2507",
        "id": "DMoVGS_sFkgV",
        "outputId": "8f0a62bb-7e75-4fdf-fb77-3ceafde92d84",
        "jupyter": {
          "outputs_hidden": false
        },
        "execution": {
          "iopub.status.busy": "2023-12-18T05:50:58.891917Z",
          "iopub.execute_input": "2023-12-18T05:50:58.892320Z",
          "iopub.status.idle": "2023-12-18T05:50:58.938620Z",
          "shell.execute_reply.started": "2023-12-18T05:50:58.892287Z",
          "shell.execute_reply": "2023-12-18T05:50:58.937503Z"
        },
        "trusted": true
      },
      "execution_count": null,
      "outputs": [
        {
          "execution_count": 21,
          "output_type": "execute_result",
          "data": {
            "text/plain": "VendorID                    0\ntpep_pickup_datetime        0\ntpep_dropoff_datetime       0\npassenger_count          6077\ntrip_distance               0\nRatecodeID               6077\nstore_and_fwd_flag       6077\nPULocationID                0\nDOLocationID                0\npayment_type                0\nextra                       0\ntip_amount                  0\ntolls_amount                0\nimprovement_surcharge       0\ntotal_amount                0\ncongestion_surcharge     6077\nAirport_fee              6077\ndtype: int64"
          },
          "metadata": {}
        }
      ]
    },
    {
      "cell_type": "code",
      "source": [
        "test.isnull().sum()"
      ],
      "metadata": {
        "_uuid": "4c621d4d-1b89-4321-8485-8707c2fdc714",
        "_cell_guid": "317b4d3f-8712-4601-9d0d-1fc002a7548e",
        "id": "IggAMpc4y0-I",
        "outputId": "2cc1a553-54b1-4d7b-b902-c814cae78003",
        "jupyter": {
          "outputs_hidden": false
        },
        "execution": {
          "iopub.status.busy": "2023-12-18T05:51:01.211064Z",
          "iopub.execute_input": "2023-12-18T05:51:01.211461Z",
          "iopub.status.idle": "2023-12-18T05:51:01.230890Z",
          "shell.execute_reply.started": "2023-12-18T05:51:01.211420Z",
          "shell.execute_reply": "2023-12-18T05:51:01.229684Z"
        },
        "trusted": true
      },
      "execution_count": null,
      "outputs": [
        {
          "execution_count": 22,
          "output_type": "execute_result",
          "data": {
            "text/plain": "VendorID                    0\ntpep_pickup_datetime        0\ntpep_dropoff_datetime       0\npassenger_count          1779\ntrip_distance               0\nRatecodeID               1779\nstore_and_fwd_flag       1779\nPULocationID                0\nDOLocationID                0\npayment_type                0\nextra                       0\ntip_amount                  0\ntolls_amount                0\nimprovement_surcharge       0\ncongestion_surcharge     1779\nAirport_fee              1779\ndtype: int64"
          },
          "metadata": {}
        }
      ]
    },
    {
      "cell_type": "code",
      "source": [
        "null_columns = ['passenger_count', 'RatecodeID', 'store_and_fwd_flag', 'congestion_surcharge', 'Airport_fee']\n",
        "#check for unique values in above listed columns\n",
        "for i in null_columns:\n",
        "  print(i, train[i].unique())"
      ],
      "metadata": {
        "_uuid": "dee53cc9-15f1-4ab1-b045-348098d9f606",
        "_cell_guid": "17375013-7a7b-4c13-a88d-e765dd25c057",
        "id": "NIRB-RBSF27g",
        "outputId": "b648ab5f-a887-49fe-e530-cd7de0e86487",
        "jupyter": {
          "outputs_hidden": false
        },
        "execution": {
          "iopub.status.busy": "2023-12-18T05:51:04.461041Z",
          "iopub.execute_input": "2023-12-18T05:51:04.462126Z",
          "iopub.status.idle": "2023-12-18T05:51:04.488582Z",
          "shell.execute_reply.started": "2023-12-18T05:51:04.462085Z",
          "shell.execute_reply": "2023-12-18T05:51:04.487693Z"
        },
        "trusted": true
      },
      "execution_count": null,
      "outputs": [
        {
          "name": "stdout",
          "text": "passenger_count [ 1.  3.  0.  2. nan  4.  6.  5.  8.  9.]\nRatecodeID [ 1. 99.  3. nan  2.  5.  4.]\nstore_and_fwd_flag ['N' nan 'Y']\ncongestion_surcharge [ 2.5  0.   nan -2.5]\nAirport_fee [ 0.    1.75   nan -1.75]\n",
          "output_type": "stream"
        }
      ]
    },
    {
      "cell_type": "code",
      "source": [
        "#impute using SimpleImputer\n",
        "from sklearn.impute import SimpleImputer\n",
        "def impute_df(df):\n",
        "  mean_imputer = SimpleImputer(strategy='mean')\n",
        "  most_freq_imputer = SimpleImputer(strategy='most_frequent')\n",
        "  #passenger_count - mean\n",
        "  df['passenger_count'] = mean_imputer.fit_transform(df[['passenger_count']])\n",
        "  #RatecodeID - mean\n",
        "  df['RatecodeID'] = mean_imputer.fit_transform(df[['RatecodeID']])\n",
        "  #store_and_fwd_flag - most frequent\n",
        "  df['store_and_fwd_flag'] = most_freq_imputer.fit_transform(df[['store_and_fwd_flag']])\n",
        "  #congestion_surcharge - mean\n",
        "  df['congestion_surcharge'] = mean_imputer.fit_transform(df[['congestion_surcharge']])\n",
        "  #Airport_fee - mean\n",
        "  df['Airport_fee'] = mean_imputer.fit_transform(df[['Airport_fee']])\n",
        "  return df"
      ],
      "metadata": {
        "_uuid": "2360fb8b-99c7-4b95-af41-98e97e54fc1c",
        "_cell_guid": "b8be5a33-32b9-48d2-b75d-0153c03ed50a",
        "id": "DFU2ZjTwSLI9",
        "jupyter": {
          "outputs_hidden": false
        },
        "execution": {
          "iopub.status.busy": "2023-12-18T05:51:06.446414Z",
          "iopub.execute_input": "2023-12-18T05:51:06.447442Z",
          "iopub.status.idle": "2023-12-18T05:51:06.817470Z",
          "shell.execute_reply.started": "2023-12-18T05:51:06.447392Z",
          "shell.execute_reply": "2023-12-18T05:51:06.816272Z"
        },
        "trusted": true
      },
      "execution_count": null,
      "outputs": []
    },
    {
      "cell_type": "code",
      "source": [
        "train_for_analysis = impute_df(train_for_analysis)\n",
        "train_for_analysis.isnull().sum()"
      ],
      "metadata": {
        "_uuid": "fc2e8aae-8e29-4c7d-85b3-6ea2c6c7f4e3",
        "_cell_guid": "109f38c4-159b-42f8-be72-1bff76d8a588",
        "jupyter": {
          "outputs_hidden": false
        },
        "execution": {
          "iopub.status.busy": "2023-12-18T05:51:08.951381Z",
          "iopub.execute_input": "2023-12-18T05:51:08.951916Z",
          "iopub.status.idle": "2023-12-18T05:51:09.018340Z",
          "shell.execute_reply.started": "2023-12-18T05:51:08.951875Z",
          "shell.execute_reply": "2023-12-18T05:51:09.017019Z"
        },
        "trusted": true,
        "id": "_rP4kNvPtLCH",
        "outputId": "cc46d74c-6d50-4b0e-8620-69300d80bf11"
      },
      "execution_count": null,
      "outputs": [
        {
          "execution_count": 25,
          "output_type": "execute_result",
          "data": {
            "text/plain": "VendorID                          0\npassenger_count                   0\ntrip_distance                     0\nRatecodeID                        0\nstore_and_fwd_flag                0\nPULocationID                      0\nDOLocationID                      0\npayment_type                      0\nextra                             0\ntip_amount                        0\ntolls_amount                      0\nimprovement_surcharge             0\ntotal_amount                      0\ncongestion_surcharge              0\nAirport_fee                       0\nincorrect_pickup_dropoff_check    0\ntravel_duration                   0\npickup_day                        0\ntime_of_day                       0\ndtype: int64"
          },
          "metadata": {}
        }
      ]
    },
    {
      "cell_type": "markdown",
      "source": [
        "# Pipleline\n",
        "\n",
        "1. Preprocessing\n",
        "2. Model"
      ],
      "metadata": {
        "_uuid": "4cdee454-4d5c-471c-b2a3-2f8db413a648",
        "_cell_guid": "aa4a8973-ff0f-4156-a1ad-f7c7a2e2ec97",
        "id": "qVlrpSOQv9MI",
        "trusted": true
      }
    },
    {
      "cell_type": "code",
      "source": [
        "from sklearn.pipeline import Pipeline, make_pipeline\n",
        "from sklearn.preprocessing import StandardScaler\n",
        "from sklearn.preprocessing import FunctionTransformer"
      ],
      "metadata": {
        "_uuid": "b6517dd1-0609-415f-ab7d-47e3aff8ecd5",
        "_cell_guid": "efd485db-4e6c-4fbf-936a-f91a7396e2b5",
        "id": "dO76ZjrmEb0k",
        "jupyter": {
          "outputs_hidden": false
        },
        "execution": {
          "iopub.status.busy": "2023-12-18T05:51:18.040992Z",
          "iopub.execute_input": "2023-12-18T05:51:18.041412Z",
          "iopub.status.idle": "2023-12-18T05:51:18.048070Z",
          "shell.execute_reply.started": "2023-12-18T05:51:18.041368Z",
          "shell.execute_reply": "2023-12-18T05:51:18.047118Z"
        },
        "trusted": true
      },
      "execution_count": null,
      "outputs": []
    },
    {
      "cell_type": "code",
      "source": [
        "def create_full_pipeline(model):\n",
        "  #functions for transformers\n",
        "  impute_transformer = FunctionTransformer(impute_df)\n",
        "  datetime_transformer = FunctionTransformer(datetime_clean)\n",
        "  encode_transformer = FunctionTransformer(encoding)\n",
        "  scaler = StandardScaler()\n",
        "\n",
        "  #preprocess_pipeline\n",
        "  preprocess_pipeline = Pipeline(steps=[('datetime_clean', datetime_transformer),\n",
        "                                        ('encode', encode_transformer), ('impute', impute_transformer), ('scale', scaler)])\n",
        "\n",
        "  #model_pipeline\n",
        "  model_pipeline = Pipeline(steps=[('linear regression model', model)])\n",
        "  #combine preprocessing pipeline and model pipeline\n",
        "  full_pipeline = make_pipeline(preprocess_pipeline, model_pipeline)\n",
        "  return full_pipeline"
      ],
      "metadata": {
        "_uuid": "01527084-6007-420c-80e8-1f1d604c280e",
        "_cell_guid": "e3accc57-d502-4a76-bf8d-1b89de004024",
        "id": "RUfWR1bVSUtv",
        "jupyter": {
          "outputs_hidden": false
        },
        "execution": {
          "iopub.status.busy": "2023-12-18T05:51:21.796048Z",
          "iopub.execute_input": "2023-12-18T05:51:21.796827Z",
          "iopub.status.idle": "2023-12-18T05:51:21.804590Z",
          "shell.execute_reply.started": "2023-12-18T05:51:21.796777Z",
          "shell.execute_reply": "2023-12-18T05:51:21.803752Z"
        },
        "trusted": true
      },
      "execution_count": null,
      "outputs": []
    },
    {
      "cell_type": "markdown",
      "source": [
        "# Train data\n",
        "\n",
        "1. Train data split into features and target\n",
        "2. Train and validation data"
      ],
      "metadata": {
        "_uuid": "0c85122a-6e57-4e07-b1b8-5c48dbc5ab08",
        "_cell_guid": "20de9028-09a6-4b20-8d38-4f624f40ca55",
        "id": "CF_cStv2FdNe",
        "trusted": true
      }
    },
    {
      "cell_type": "code",
      "source": [
        "x = train.drop(columns=['total_amount'])\n",
        "y = train['total_amount']"
      ],
      "metadata": {
        "_uuid": "2d39d51e-7d8f-4038-9535-ffac36f8e3ba",
        "_cell_guid": "7d87f0ed-68ea-4c2f-84b5-979df3be6153",
        "id": "G97pD_C3wLGg",
        "jupyter": {
          "outputs_hidden": false
        },
        "execution": {
          "iopub.status.busy": "2023-12-18T05:51:25.620827Z",
          "iopub.execute_input": "2023-12-18T05:51:25.621245Z",
          "iopub.status.idle": "2023-12-18T05:51:25.647072Z",
          "shell.execute_reply.started": "2023-12-18T05:51:25.621212Z",
          "shell.execute_reply": "2023-12-18T05:51:25.645534Z"
        },
        "trusted": true
      },
      "execution_count": null,
      "outputs": []
    },
    {
      "cell_type": "code",
      "source": [
        "from sklearn.model_selection import train_test_split\n",
        "xtrain, xtest, ytrain, ytest = train_test_split(x, y, test_size=0.2, random_state=33)"
      ],
      "metadata": {
        "_uuid": "fda367a3-30a9-44a1-95e2-dfbe2b76abe7",
        "_cell_guid": "48d5bba4-43b2-4f99-8980-5428aad83150",
        "id": "ZRU2Pcfmv_oj",
        "jupyter": {
          "outputs_hidden": false
        },
        "execution": {
          "iopub.status.busy": "2023-12-18T05:51:28.911101Z",
          "iopub.execute_input": "2023-12-18T05:51:28.911479Z",
          "iopub.status.idle": "2023-12-18T05:51:29.004960Z",
          "shell.execute_reply.started": "2023-12-18T05:51:28.911449Z",
          "shell.execute_reply": "2023-12-18T05:51:29.003868Z"
        },
        "trusted": true
      },
      "execution_count": null,
      "outputs": []
    },
    {
      "cell_type": "markdown",
      "source": [
        "# Models"
      ],
      "metadata": {
        "_uuid": "f52bc9f8-62b7-4676-94bd-cab78eb42c42",
        "_cell_guid": "b2e4cea3-24d8-45f7-97b6-842433a25d10",
        "id": "rdFffQDeMMOn",
        "trusted": true
      }
    },
    {
      "cell_type": "code",
      "source": [
        "from sklearn.dummy import DummyRegressor\n",
        "from sklearn.model_selection import cross_val_score\n",
        "from sklearn.linear_model import LinearRegression\n",
        "from sklearn.neighbors import KNeighborsRegressor\n",
        "from sklearn.tree import DecisionTreeRegressor\n",
        "from sklearn.ensemble import BaggingRegressor, AdaBoostRegressor, GradientBoostingRegressor\n",
        "from sklearn.ensemble import RandomForestRegressor\n",
        "from sklearn.neural_network import MLPRegressor\n",
        "from sklearn.metrics import r2_score"
      ],
      "metadata": {
        "_uuid": "b6866d5b-2093-4005-bde0-d421e3183d94",
        "_cell_guid": "764ca6bf-14d6-42ec-845d-3733ef27964d",
        "id": "QKoq60H2OdrI",
        "jupyter": {
          "outputs_hidden": false
        },
        "execution": {
          "iopub.status.busy": "2023-12-18T05:51:31.671091Z",
          "iopub.execute_input": "2023-12-18T05:51:31.671524Z",
          "iopub.status.idle": "2023-12-18T05:51:31.784875Z",
          "shell.execute_reply.started": "2023-12-18T05:51:31.671488Z",
          "shell.execute_reply": "2023-12-18T05:51:31.783579Z"
        },
        "trusted": true
      },
      "execution_count": null,
      "outputs": []
    },
    {
      "cell_type": "markdown",
      "source": [
        "## Dummy - baseline"
      ],
      "metadata": {
        "_uuid": "400e1352-fb25-45a4-8b5a-5ffe05ba1aee",
        "_cell_guid": "5bfb3f49-8c70-4fb3-aa40-0b2eb3921647",
        "id": "2VwztlLNQoxS",
        "trusted": true
      }
    },
    {
      "cell_type": "code",
      "source": [
        "#baseline model - mean\n",
        "mean_model = DummyRegressor(strategy='mean').fit(xtrain, ytrain)\n",
        "ypred_mean = mean_model.predict(xtest)\n",
        "r2 = r2_score(ytest, ypred_mean)\n",
        "print(\"R2 score(baseline model mean): {:.2f}\".format(r2))"
      ],
      "metadata": {
        "_uuid": "6e13c6be-8dde-498e-9575-9b5e2bf35075",
        "_cell_guid": "3f3cf212-97d4-4008-8c1b-eeb26077d22b",
        "id": "PioMDVSYPATz",
        "outputId": "d7bfa00a-7905-4ab9-c0f5-63a54778f0cf",
        "jupyter": {
          "outputs_hidden": false
        },
        "execution": {
          "iopub.status.busy": "2023-12-18T05:51:35.461243Z",
          "iopub.execute_input": "2023-12-18T05:51:35.461688Z",
          "iopub.status.idle": "2023-12-18T05:51:35.472427Z",
          "shell.execute_reply.started": "2023-12-18T05:51:35.461653Z",
          "shell.execute_reply": "2023-12-18T05:51:35.471250Z"
        },
        "trusted": true
      },
      "execution_count": null,
      "outputs": [
        {
          "name": "stdout",
          "text": "R2 score(baseline model mean): -0.00\n",
          "output_type": "stream"
        }
      ]
    },
    {
      "cell_type": "markdown",
      "source": [
        "## Linear Regression"
      ],
      "metadata": {
        "_uuid": "1bee6b7b-3ea5-4ace-b3af-fd44dbb928ea",
        "_cell_guid": "8f9d7984-d763-436e-bc73-d7e7fb0a4a1a",
        "id": "_xWo_q-PQunI",
        "trusted": true
      }
    },
    {
      "cell_type": "code",
      "source": [
        "#Linear Regression\n",
        "lr = LinearRegression()\n",
        "full_pipeline_lr = create_full_pipeline(lr)\n",
        "\n",
        "xtrain_transformed_lr = full_pipeline_lr.fit(xtrain, ytrain)\n",
        "ypred_lr = full_pipeline_lr.predict(xtest)\n",
        "r2 = r2_score(ytest, ypred_lr)\n",
        "print(\"R2 score(Linear Regression): {:.2f}\".format(r2))"
      ],
      "metadata": {
        "_uuid": "21ee6558-f1fe-4e12-b03f-c9e4f2e8c70f",
        "_cell_guid": "8f194904-6bb1-4725-9820-e4feecdaab20",
        "id": "nxh9CGyxSyXE",
        "outputId": "2f7cc5f9-5cad-4e9e-f1c8-bc0410b92bce",
        "jupyter": {
          "outputs_hidden": false
        },
        "execution": {
          "iopub.status.busy": "2023-12-18T05:51:37.631068Z",
          "iopub.execute_input": "2023-12-18T05:51:37.632272Z",
          "iopub.status.idle": "2023-12-18T05:51:38.902410Z",
          "shell.execute_reply.started": "2023-12-18T05:51:37.632228Z",
          "shell.execute_reply": "2023-12-18T05:51:38.900255Z"
        },
        "trusted": true
      },
      "execution_count": null,
      "outputs": [
        {
          "name": "stdout",
          "text": "R2 score(Linear Regression): 0.72\n",
          "output_type": "stream"
        }
      ]
    },
    {
      "cell_type": "code",
      "source": [
        "xtrain_transformed_lr"
      ],
      "metadata": {
        "execution": {
          "iopub.status.busy": "2023-12-18T08:11:02.899047Z",
          "iopub.execute_input": "2023-12-18T08:11:02.899500Z",
          "iopub.status.idle": "2023-12-18T08:11:02.955127Z",
          "shell.execute_reply.started": "2023-12-18T08:11:02.899468Z",
          "shell.execute_reply": "2023-12-18T08:11:02.953174Z"
        },
        "trusted": true,
        "id": "5yy8DicrtLCj",
        "outputId": "52e14ffc-d2a5-4caa-ac39-9a6c27716267"
      },
      "execution_count": null,
      "outputs": [
        {
          "execution_count": 52,
          "output_type": "execute_result",
          "data": {
            "text/plain": "Pipeline(steps=[('pipeline-1',\n                 Pipeline(steps=[('datetime_clean',\n                                  FunctionTransformer(func=<function datetime_clean at 0x7bae72d71e10>)),\n                                 ('encode',\n                                  FunctionTransformer(func=<function encoding at 0x7bae72a715a0>)),\n                                 ('impute',\n                                  FunctionTransformer(func=<function impute_df at 0x7bae749caf80>)),\n                                 ('scale', StandardScaler())])),\n                ('pipeline-2',\n                 Pipeline(steps=[('linear regression model',\n                                  LinearRegression())]))])",
            "text/html": "<style>#sk-container-id-1 {color: black;background-color: white;}#sk-container-id-1 pre{padding: 0;}#sk-container-id-1 div.sk-toggleable {background-color: white;}#sk-container-id-1 label.sk-toggleable__label {cursor: pointer;display: block;width: 100%;margin-bottom: 0;padding: 0.3em;box-sizing: border-box;text-align: center;}#sk-container-id-1 label.sk-toggleable__label-arrow:before {content: \"▸\";float: left;margin-right: 0.25em;color: #696969;}#sk-container-id-1 label.sk-toggleable__label-arrow:hover:before {color: black;}#sk-container-id-1 div.sk-estimator:hover label.sk-toggleable__label-arrow:before {color: black;}#sk-container-id-1 div.sk-toggleable__content {max-height: 0;max-width: 0;overflow: hidden;text-align: left;background-color: #f0f8ff;}#sk-container-id-1 div.sk-toggleable__content pre {margin: 0.2em;color: black;border-radius: 0.25em;background-color: #f0f8ff;}#sk-container-id-1 input.sk-toggleable__control:checked~div.sk-toggleable__content {max-height: 200px;max-width: 100%;overflow: auto;}#sk-container-id-1 input.sk-toggleable__control:checked~label.sk-toggleable__label-arrow:before {content: \"▾\";}#sk-container-id-1 div.sk-estimator input.sk-toggleable__control:checked~label.sk-toggleable__label {background-color: #d4ebff;}#sk-container-id-1 div.sk-label input.sk-toggleable__control:checked~label.sk-toggleable__label {background-color: #d4ebff;}#sk-container-id-1 input.sk-hidden--visually {border: 0;clip: rect(1px 1px 1px 1px);clip: rect(1px, 1px, 1px, 1px);height: 1px;margin: -1px;overflow: hidden;padding: 0;position: absolute;width: 1px;}#sk-container-id-1 div.sk-estimator {font-family: monospace;background-color: #f0f8ff;border: 1px dotted black;border-radius: 0.25em;box-sizing: border-box;margin-bottom: 0.5em;}#sk-container-id-1 div.sk-estimator:hover {background-color: #d4ebff;}#sk-container-id-1 div.sk-parallel-item::after {content: \"\";width: 100%;border-bottom: 1px solid gray;flex-grow: 1;}#sk-container-id-1 div.sk-label:hover label.sk-toggleable__label {background-color: #d4ebff;}#sk-container-id-1 div.sk-serial::before {content: \"\";position: absolute;border-left: 1px solid gray;box-sizing: border-box;top: 0;bottom: 0;left: 50%;z-index: 0;}#sk-container-id-1 div.sk-serial {display: flex;flex-direction: column;align-items: center;background-color: white;padding-right: 0.2em;padding-left: 0.2em;position: relative;}#sk-container-id-1 div.sk-item {position: relative;z-index: 1;}#sk-container-id-1 div.sk-parallel {display: flex;align-items: stretch;justify-content: center;background-color: white;position: relative;}#sk-container-id-1 div.sk-item::before, #sk-container-id-1 div.sk-parallel-item::before {content: \"\";position: absolute;border-left: 1px solid gray;box-sizing: border-box;top: 0;bottom: 0;left: 50%;z-index: -1;}#sk-container-id-1 div.sk-parallel-item {display: flex;flex-direction: column;z-index: 1;position: relative;background-color: white;}#sk-container-id-1 div.sk-parallel-item:first-child::after {align-self: flex-end;width: 50%;}#sk-container-id-1 div.sk-parallel-item:last-child::after {align-self: flex-start;width: 50%;}#sk-container-id-1 div.sk-parallel-item:only-child::after {width: 0;}#sk-container-id-1 div.sk-dashed-wrapped {border: 1px dashed gray;margin: 0 0.4em 0.5em 0.4em;box-sizing: border-box;padding-bottom: 0.4em;background-color: white;}#sk-container-id-1 div.sk-label label {font-family: monospace;font-weight: bold;display: inline-block;line-height: 1.2em;}#sk-container-id-1 div.sk-label-container {text-align: center;}#sk-container-id-1 div.sk-container {/* jupyter's `normalize.less` sets `[hidden] { display: none; }` but bootstrap.min.css set `[hidden] { display: none !important; }` so we also need the `!important` here to be able to override the default hidden behavior on the sphinx rendered scikit-learn.org. See: https://github.com/scikit-learn/scikit-learn/issues/21755 */display: inline-block !important;position: relative;}#sk-container-id-1 div.sk-text-repr-fallback {display: none;}</style><div id=\"sk-container-id-1\" class=\"sk-top-container\"><div class=\"sk-text-repr-fallback\"><pre>Pipeline(steps=[(&#x27;pipeline-1&#x27;,\n                 Pipeline(steps=[(&#x27;datetime_clean&#x27;,\n                                  FunctionTransformer(func=&lt;function datetime_clean at 0x7bae72d71e10&gt;)),\n                                 (&#x27;encode&#x27;,\n                                  FunctionTransformer(func=&lt;function encoding at 0x7bae72a715a0&gt;)),\n                                 (&#x27;impute&#x27;,\n                                  FunctionTransformer(func=&lt;function impute_df at 0x7bae749caf80&gt;)),\n                                 (&#x27;scale&#x27;, StandardScaler())])),\n                (&#x27;pipeline-2&#x27;,\n                 Pipeline(steps=[(&#x27;linear regression model&#x27;,\n                                  LinearRegression())]))])</pre><b>In a Jupyter environment, please rerun this cell to show the HTML representation or trust the notebook. <br />On GitHub, the HTML representation is unable to render, please try loading this page with nbviewer.org.</b></div><div class=\"sk-container\" hidden><div class=\"sk-item sk-dashed-wrapped\"><div class=\"sk-label-container\"><div class=\"sk-label sk-toggleable\"><input class=\"sk-toggleable__control sk-hidden--visually\" id=\"sk-estimator-id-1\" type=\"checkbox\" ><label for=\"sk-estimator-id-1\" class=\"sk-toggleable__label sk-toggleable__label-arrow\">Pipeline</label><div class=\"sk-toggleable__content\"><pre>Pipeline(steps=[(&#x27;pipeline-1&#x27;,\n                 Pipeline(steps=[(&#x27;datetime_clean&#x27;,\n                                  FunctionTransformer(func=&lt;function datetime_clean at 0x7bae72d71e10&gt;)),\n                                 (&#x27;encode&#x27;,\n                                  FunctionTransformer(func=&lt;function encoding at 0x7bae72a715a0&gt;)),\n                                 (&#x27;impute&#x27;,\n                                  FunctionTransformer(func=&lt;function impute_df at 0x7bae749caf80&gt;)),\n                                 (&#x27;scale&#x27;, StandardScaler())])),\n                (&#x27;pipeline-2&#x27;,\n                 Pipeline(steps=[(&#x27;linear regression model&#x27;,\n                                  LinearRegression())]))])</pre></div></div></div><div class=\"sk-serial\"><div class=\"sk-item\"><div class=\"sk-label-container\"><div class=\"sk-label sk-toggleable\"><input class=\"sk-toggleable__control sk-hidden--visually\" id=\"sk-estimator-id-2\" type=\"checkbox\" ><label for=\"sk-estimator-id-2\" class=\"sk-toggleable__label sk-toggleable__label-arrow\">pipeline-1: Pipeline</label><div class=\"sk-toggleable__content\"><pre>Pipeline(steps=[(&#x27;datetime_clean&#x27;,\n                 FunctionTransformer(func=&lt;function datetime_clean at 0x7bae72d71e10&gt;)),\n                (&#x27;encode&#x27;,\n                 FunctionTransformer(func=&lt;function encoding at 0x7bae72a715a0&gt;)),\n                (&#x27;impute&#x27;,\n                 FunctionTransformer(func=&lt;function impute_df at 0x7bae749caf80&gt;)),\n                (&#x27;scale&#x27;, StandardScaler())])</pre></div></div></div><div class=\"sk-serial\"><div class=\"sk-item\"><div class=\"sk-estimator sk-toggleable\"><input class=\"sk-toggleable__control sk-hidden--visually\" id=\"sk-estimator-id-3\" type=\"checkbox\" ><label for=\"sk-estimator-id-3\" class=\"sk-toggleable__label sk-toggleable__label-arrow\">FunctionTransformer</label><div class=\"sk-toggleable__content\"><pre>FunctionTransformer(func=&lt;function datetime_clean at 0x7bae72d71e10&gt;)</pre></div></div></div><div class=\"sk-item\"><div class=\"sk-estimator sk-toggleable\"><input class=\"sk-toggleable__control sk-hidden--visually\" id=\"sk-estimator-id-4\" type=\"checkbox\" ><label for=\"sk-estimator-id-4\" class=\"sk-toggleable__label sk-toggleable__label-arrow\">FunctionTransformer</label><div class=\"sk-toggleable__content\"><pre>FunctionTransformer(func=&lt;function encoding at 0x7bae72a715a0&gt;)</pre></div></div></div><div class=\"sk-item\"><div class=\"sk-estimator sk-toggleable\"><input class=\"sk-toggleable__control sk-hidden--visually\" id=\"sk-estimator-id-5\" type=\"checkbox\" ><label for=\"sk-estimator-id-5\" class=\"sk-toggleable__label sk-toggleable__label-arrow\">FunctionTransformer</label><div class=\"sk-toggleable__content\"><pre>FunctionTransformer(func=&lt;function impute_df at 0x7bae749caf80&gt;)</pre></div></div></div><div class=\"sk-item\"><div class=\"sk-estimator sk-toggleable\"><input class=\"sk-toggleable__control sk-hidden--visually\" id=\"sk-estimator-id-6\" type=\"checkbox\" ><label for=\"sk-estimator-id-6\" class=\"sk-toggleable__label sk-toggleable__label-arrow\">StandardScaler</label><div class=\"sk-toggleable__content\"><pre>StandardScaler()</pre></div></div></div></div></div><div class=\"sk-item\"><div class=\"sk-label-container\"><div class=\"sk-label sk-toggleable\"><input class=\"sk-toggleable__control sk-hidden--visually\" id=\"sk-estimator-id-7\" type=\"checkbox\" ><label for=\"sk-estimator-id-7\" class=\"sk-toggleable__label sk-toggleable__label-arrow\">pipeline-2: Pipeline</label><div class=\"sk-toggleable__content\"><pre>Pipeline(steps=[(&#x27;linear regression model&#x27;, LinearRegression())])</pre></div></div></div><div class=\"sk-serial\"><div class=\"sk-item\"><div class=\"sk-estimator sk-toggleable\"><input class=\"sk-toggleable__control sk-hidden--visually\" id=\"sk-estimator-id-8\" type=\"checkbox\" ><label for=\"sk-estimator-id-8\" class=\"sk-toggleable__label sk-toggleable__label-arrow\">LinearRegression</label><div class=\"sk-toggleable__content\"><pre>LinearRegression()</pre></div></div></div></div></div></div></div></div></div>"
          },
          "metadata": {}
        }
      ]
    },
    {
      "cell_type": "code",
      "source": [
        "#Cross validation\n",
        "cv_scores_lr = cross_val_score(full_pipeline_lr, x, y, cv=5, scoring='r2')\n",
        "print(\"Cross-validated R2 scores(Linear Regression): {}\".format(cv_scores_lr))\n",
        "print(\"Mean R2 score(Linear Regression): {:.2f}\".format(np.mean(cv_scores_lr)))"
      ],
      "metadata": {
        "_uuid": "2f8faa62-60f6-4ed9-9834-396c6e6c51bd",
        "_cell_guid": "d82b22c9-143a-47ed-9f68-21362a97a29e",
        "jupyter": {
          "outputs_hidden": false
        },
        "execution": {
          "iopub.status.busy": "2023-12-18T05:51:42.170801Z",
          "iopub.execute_input": "2023-12-18T05:51:42.171186Z",
          "iopub.status.idle": "2023-12-18T05:51:48.381843Z",
          "shell.execute_reply.started": "2023-12-18T05:51:42.171157Z",
          "shell.execute_reply": "2023-12-18T05:51:48.380564Z"
        },
        "trusted": true,
        "id": "uv5MyzxDtLCj",
        "outputId": "6f6ad580-1e9b-4bfd-ac37-9ce73a71b666"
      },
      "execution_count": null,
      "outputs": [
        {
          "name": "stdout",
          "text": "Cross-validated R2 scores(Linear Regression): [0.69965584 0.73257144 0.73689863 0.71450077 0.72751634]\nMean R2 score(Linear Regression): 0.72\n",
          "output_type": "stream"
        }
      ]
    },
    {
      "cell_type": "markdown",
      "source": [
        "## KNeighbors"
      ],
      "metadata": {
        "_uuid": "8a315fb4-bb80-4077-8dfc-44ab41c8e058",
        "_cell_guid": "1941ef5b-39db-486b-942a-e5c550dfab17",
        "id": "rs9VHaN9steP",
        "trusted": true
      }
    },
    {
      "cell_type": "code",
      "source": [
        "#KNeighbors Regressor\n",
        "knn = KNeighborsRegressor()\n",
        "full_pipeline_knn = create_full_pipeline(knn)\n",
        "\n",
        "xtrain_transformed_knn = full_pipeline_knn.fit(xtrain, ytrain)\n",
        "ypred_knn = full_pipeline_knn.predict(xtest)\n",
        "r2_knn = r2_score(ytest, ypred_knn)\n",
        "print(\"R2 score(K-Nearest Neighbors Regressor): {:.2f}\".format(r2_knn))"
      ],
      "metadata": {
        "_uuid": "66c799c5-5449-45d4-9619-688f2783b543",
        "_cell_guid": "1b0f1a6d-631a-4115-a037-b7c28ffa4ccf",
        "id": "JgipVRfxVu3j",
        "outputId": "01d0a6ae-c637-4cf1-ed2f-13e0e7eca176",
        "jupyter": {
          "outputs_hidden": false
        },
        "execution": {
          "iopub.status.busy": "2023-12-18T05:59:48.336974Z",
          "iopub.execute_input": "2023-12-18T05:59:48.337430Z",
          "iopub.status.idle": "2023-12-18T05:59:59.989084Z",
          "shell.execute_reply.started": "2023-12-18T05:59:48.337396Z",
          "shell.execute_reply": "2023-12-18T05:59:59.987691Z"
        },
        "trusted": true
      },
      "execution_count": null,
      "outputs": [
        {
          "name": "stdout",
          "text": "R2 score(K-Nearest Neighbors Regressor): 0.77\n",
          "output_type": "stream"
        }
      ]
    },
    {
      "cell_type": "code",
      "source": [
        "cv_scores_knn = cross_val_score(full_pipeline_knn, x, y, cv=5, scoring='r2')\n",
        "print(\"Cross-validated R2 scores(K-Nearest Neighbors Regressor): {}\".format(cv_scores_knn))\n",
        "print(\"Mean R2 score(K-Nearest Neighbors Regressor): {:.2f}\".format(np.mean(cv_scores_knn)))"
      ],
      "metadata": {
        "_uuid": "736d414d-dbf8-43ac-b7dc-2b4e84c38a0e",
        "_cell_guid": "894c0369-e4b4-429f-97dd-d0b3eb039f2c",
        "jupyter": {
          "outputs_hidden": false
        },
        "execution": {
          "iopub.status.busy": "2023-12-18T06:00:02.859048Z",
          "iopub.execute_input": "2023-12-18T06:00:02.860131Z",
          "iopub.status.idle": "2023-12-18T06:01:00.214939Z",
          "shell.execute_reply.started": "2023-12-18T06:00:02.860059Z",
          "shell.execute_reply": "2023-12-18T06:01:00.213535Z"
        },
        "trusted": true,
        "id": "O4Z9JYittLCk",
        "outputId": "3364ca4d-bf4e-48c7-8927-40a3e5feaade"
      },
      "execution_count": null,
      "outputs": [
        {
          "name": "stdout",
          "text": "Cross-validated R2 scores(K-Nearest Neighbors Regressor): [0.74831862 0.76612587 0.76403908 0.74306616 0.76052037]\nMean R2 score(K-Nearest Neighbors Regressor): 0.76\n",
          "output_type": "stream"
        }
      ]
    },
    {
      "cell_type": "markdown",
      "source": [
        "## Decision Tree"
      ],
      "metadata": {
        "_uuid": "974da725-6ee6-4150-ad9d-0619e4b868ec",
        "_cell_guid": "9b26b9f4-f077-4ce0-9fdc-316a43789589",
        "id": "in06VqkrygbZ",
        "trusted": true
      }
    },
    {
      "cell_type": "code",
      "source": [
        "#Decision Tree Regressor\n",
        "decision_tree = DecisionTreeRegressor()\n",
        "full_pipeline_dt = create_full_pipeline(decision_tree)\n",
        "\n",
        "xtrain_transformed_dt = full_pipeline_dt.fit(xtrain, ytrain)\n",
        "ypred_dt = full_pipeline_dt.predict(xtest)\n",
        "r2_dt = r2_score(ytest, ypred_dt)\n",
        "print(\"R2 score(Decision Tree Regressor): {:.2f}\".format(r2_dt))"
      ],
      "metadata": {
        "_uuid": "b5cf011c-b926-4473-ac68-bcc14cee93e1",
        "_cell_guid": "36bb2349-27c6-4a79-adf4-9a1136623e8d",
        "id": "idqH1F3rygba",
        "outputId": "f3bd8188-5b1a-4744-b248-060e0d655be6",
        "jupyter": {
          "outputs_hidden": false
        },
        "execution": {
          "iopub.status.busy": "2023-12-18T06:01:40.431741Z",
          "iopub.execute_input": "2023-12-18T06:01:40.432137Z",
          "iopub.status.idle": "2023-12-18T06:01:43.086835Z",
          "shell.execute_reply.started": "2023-12-18T06:01:40.432109Z",
          "shell.execute_reply": "2023-12-18T06:01:43.085596Z"
        },
        "trusted": true
      },
      "execution_count": null,
      "outputs": [
        {
          "name": "stdout",
          "text": "R2 score(Decision Tree Regressor): 0.90\n",
          "output_type": "stream"
        }
      ]
    },
    {
      "cell_type": "code",
      "source": [
        "cv_scores_dt = cross_val_score(full_pipeline_dt, x, y, cv=5, scoring='r2')\n",
        "print(\"Cross-validated R2 scores(Decision Tree Regressor): {}\".format(cv_scores_dt))\n",
        "print(\"Mean R2 score(Decision Tree Regressor): {:.2f}\".format(np.mean(cv_scores_dt)))"
      ],
      "metadata": {
        "_uuid": "6d351867-85dd-4508-a03f-dd1e97fce972",
        "_cell_guid": "76fee275-aa24-414d-9dc9-2afd92a4cbb9",
        "jupyter": {
          "outputs_hidden": false
        },
        "execution": {
          "iopub.status.busy": "2023-12-18T06:01:47.561024Z",
          "iopub.execute_input": "2023-12-18T06:01:47.561422Z",
          "iopub.status.idle": "2023-12-18T06:02:01.766074Z",
          "shell.execute_reply.started": "2023-12-18T06:01:47.561390Z",
          "shell.execute_reply": "2023-12-18T06:02:01.764803Z"
        },
        "trusted": true,
        "id": "pmDp2UWVtLCl",
        "outputId": "453eef76-1d1f-4d36-bcd8-5045463e794b"
      },
      "execution_count": null,
      "outputs": [
        {
          "name": "stdout",
          "text": "Cross-validated R2 scores(Decision Tree Regressor): [0.88917201 0.90212748 0.91721916 0.90941246 0.88039675]\nMean R2 score(Decision Tree Regressor): 0.90\n",
          "output_type": "stream"
        }
      ]
    },
    {
      "cell_type": "markdown",
      "source": [
        "## Adaboost with decision tree"
      ],
      "metadata": {
        "_uuid": "0dd67445-ff37-4fd5-ad3a-24068650f1a0",
        "_cell_guid": "79cf75cf-9f39-46f5-b3aa-d79be404dd41",
        "id": "7chIHmawBeny",
        "trusted": true
      }
    },
    {
      "cell_type": "code",
      "source": [
        "#AdaBoost Regressor\n",
        "adaboost_regressor = AdaBoostRegressor(estimator = decision_tree, n_estimators = 100, random_state = 33)\n",
        "full_pipeline_adaboost = create_full_pipeline(adaboost_regressor)\n",
        "\n",
        "xtrain_transformed_adaboost = full_pipeline_adaboost.fit(xtrain, ytrain)\n",
        "ypred_adaboost = full_pipeline_adaboost.predict(xtest)\n",
        "r2_adaboost = r2_score(ytest, ypred_adaboost)\n",
        "print(\"R2 score(AdaBoost with Decision Tree Regressor): {:.2f}\".format(r2_adaboost))"
      ],
      "metadata": {
        "_uuid": "363a33d8-dfd4-41d6-b21a-8d53f94cdb00",
        "_cell_guid": "41d7ad29-b8ec-4744-81a1-d07441ad43c9",
        "id": "X9YsOAX66zRj",
        "outputId": "4ebfff20-bad9-4801-9196-79d02ed7affc",
        "jupyter": {
          "outputs_hidden": false
        },
        "execution": {
          "iopub.status.busy": "2023-12-18T06:02:39.121689Z",
          "iopub.execute_input": "2023-12-18T06:02:39.122133Z",
          "iopub.status.idle": "2023-12-18T06:05:32.736349Z",
          "shell.execute_reply.started": "2023-12-18T06:02:39.122080Z",
          "shell.execute_reply": "2023-12-18T06:05:32.735204Z"
        },
        "trusted": true
      },
      "execution_count": null,
      "outputs": [
        {
          "name": "stdout",
          "text": "R2 score(AdaBoost with Decision Tree Regressor): 0.95\n",
          "output_type": "stream"
        }
      ]
    },
    {
      "cell_type": "markdown",
      "source": [
        "## Gradient Boosting Regressor"
      ],
      "metadata": {
        "_uuid": "51ee3dff-ca6f-4e3e-a2c8-d71292c5b76f",
        "_cell_guid": "8ecf58f2-6c3f-4597-8c33-73e5b2019648",
        "id": "JBD9hAPZBjrZ",
        "trusted": true
      }
    },
    {
      "cell_type": "code",
      "source": [
        "#Gradient Boosting Regressor\n",
        "gradient_boosting_regressor = GradientBoostingRegressor(n_estimators = 100, learning_rate = 0.1, random_state = 33)\n",
        "full_pipeline_gb = create_full_pipeline(gradient_boosting_regressor)\n",
        "\n",
        "xtrain_transformed_gb = full_pipeline_gb.fit(xtrain, ytrain)\n",
        "ypred_gb = full_pipeline_gb.predict(xtest)\n",
        "r2_gb = r2_score(ytest, ypred_gb)\n",
        "print(\"R2 score(Gradient Boosting Regressor): {:.2f}\".format(r2_gb))"
      ],
      "metadata": {
        "_uuid": "d4b7551e-7c89-4f2b-bc00-25a39923d907",
        "_cell_guid": "0231fddf-9ca6-41f5-9236-8f60c1415956",
        "id": "gK4j3aCl7pXr",
        "outputId": "a5f5c3fe-76e7-4e6f-de53-967de6b6872b",
        "jupyter": {
          "outputs_hidden": false
        },
        "execution": {
          "iopub.status.busy": "2023-12-18T06:07:39.316536Z",
          "iopub.execute_input": "2023-12-18T06:07:39.317013Z",
          "iopub.status.idle": "2023-12-18T06:08:07.061103Z",
          "shell.execute_reply.started": "2023-12-18T06:07:39.316978Z",
          "shell.execute_reply": "2023-12-18T06:08:07.059650Z"
        },
        "trusted": true
      },
      "execution_count": null,
      "outputs": [
        {
          "name": "stdout",
          "text": "R2 score(Gradient Boosting Regressor): 0.94\n",
          "output_type": "stream"
        }
      ]
    },
    {
      "cell_type": "markdown",
      "source": [
        "## Random Forest Regressor"
      ],
      "metadata": {
        "_uuid": "5048fbe0-e3e0-4a39-a293-4577c4379f60",
        "_cell_guid": "579a3bb3-054a-48b8-a581-f978f83e735e",
        "id": "llW0XfW5UbhN",
        "trusted": true
      }
    },
    {
      "cell_type": "code",
      "source": [
        "#Random Forest Regressor\n",
        "rf = RandomForestRegressor(random_state = 33)\n",
        "full_pipeline_rf = create_full_pipeline(rf)\n",
        "\n",
        "xtrain_transformed_rf = full_pipeline_rf.fit(xtrain, ytrain)\n",
        "ypred_rf = full_pipeline_rf.predict(xtest)\n",
        "r2_rf = r2_score(ytest, ypred_rf)\n",
        "print(\"R2 score(Random Forest Regressor): {:.2f}\".format(r2_rf))"
      ],
      "metadata": {
        "_uuid": "4c09689b-2a30-4b6a-884f-20e1f3af5533",
        "_cell_guid": "4bba9c25-c6e7-4c56-80dd-16001a36d504",
        "id": "EjP9bUg3U6qb",
        "outputId": "b988d664-5ebd-47ac-bb29-7276d1190ed5",
        "jupyter": {
          "outputs_hidden": false
        },
        "execution": {
          "iopub.status.busy": "2023-12-18T06:08:32.231151Z",
          "iopub.execute_input": "2023-12-18T06:08:32.231563Z",
          "iopub.status.idle": "2023-12-18T06:10:32.236237Z",
          "shell.execute_reply.started": "2023-12-18T06:08:32.231529Z",
          "shell.execute_reply": "2023-12-18T06:10:32.234024Z"
        },
        "trusted": true
      },
      "execution_count": null,
      "outputs": [
        {
          "name": "stdout",
          "text": "R2 score(Random Forest Regressor): 0.95\n",
          "output_type": "stream"
        }
      ]
    },
    {
      "cell_type": "code",
      "source": [
        "rf.get_params()"
      ],
      "metadata": {
        "execution": {
          "iopub.status.busy": "2023-12-18T06:10:54.246177Z",
          "iopub.execute_input": "2023-12-18T06:10:54.246956Z",
          "iopub.status.idle": "2023-12-18T06:10:54.256172Z",
          "shell.execute_reply.started": "2023-12-18T06:10:54.246912Z",
          "shell.execute_reply": "2023-12-18T06:10:54.254790Z"
        },
        "trusted": true,
        "id": "DcaON6BstLCn",
        "outputId": "956ee129-09f7-431f-9829-eecab4d8c51e"
      },
      "execution_count": null,
      "outputs": [
        {
          "execution_count": 43,
          "output_type": "execute_result",
          "data": {
            "text/plain": "{'bootstrap': True,\n 'ccp_alpha': 0.0,\n 'criterion': 'squared_error',\n 'max_depth': None,\n 'max_features': 1.0,\n 'max_leaf_nodes': None,\n 'max_samples': None,\n 'min_impurity_decrease': 0.0,\n 'min_samples_leaf': 1,\n 'min_samples_split': 2,\n 'min_weight_fraction_leaf': 0.0,\n 'n_estimators': 100,\n 'n_jobs': None,\n 'oob_score': False,\n 'random_state': 33,\n 'verbose': 0,\n 'warm_start': False}"
          },
          "metadata": {}
        }
      ]
    },
    {
      "cell_type": "markdown",
      "source": [
        "### Multi Layer Perceptron"
      ],
      "metadata": {
        "_uuid": "d56f77e6-c611-49b2-b9b3-e27e31f42678",
        "_cell_guid": "23f69437-194b-4c41-9d29-bef4154385e3",
        "id": "zHDBr7sMBpYz",
        "trusted": true
      }
    },
    {
      "cell_type": "code",
      "source": [
        "# MLP Regressor\n",
        "mlp_regressor = MLPRegressor(max_iter = 200, random_state = 33)\n",
        "full_pipeline_mlp = create_full_pipeline(mlp_regressor)\n",
        "\n",
        "xtrain_transformed_mlp = full_pipeline_mlp.fit(xtrain, ytrain)\n",
        "ypred_mlp = full_pipeline_mlp.predict(xtest)\n",
        "r2_mlp = r2_score(ytest, ypred_mlp)\n",
        "print(\"R2 score(MLP Regressor): {:.2f}\".format(r2_mlp))"
      ],
      "metadata": {
        "_uuid": "5406bdd9-81f7-4f66-a86f-1c9e17ef11bc",
        "_cell_guid": "61bd40f7-2768-41d2-9a23-c1bd0644a720",
        "id": "Gao7TQeG96tX",
        "outputId": "7238a3a1-17e6-4071-ca2d-241bc42f4f7d",
        "jupyter": {
          "outputs_hidden": false
        },
        "execution": {
          "iopub.status.busy": "2023-12-18T06:11:04.176277Z",
          "iopub.execute_input": "2023-12-18T06:11:04.176677Z",
          "iopub.status.idle": "2023-12-18T06:13:56.036118Z",
          "shell.execute_reply.started": "2023-12-18T06:11:04.176639Z",
          "shell.execute_reply": "2023-12-18T06:13:56.034758Z"
        },
        "trusted": true
      },
      "execution_count": null,
      "outputs": [
        {
          "name": "stderr",
          "text": "/opt/conda/lib/python3.10/site-packages/sklearn/neural_network/_multilayer_perceptron.py:686: ConvergenceWarning: Stochastic Optimizer: Maximum iterations (200) reached and the optimization hasn't converged yet.\n  warnings.warn(\n",
          "output_type": "stream"
        },
        {
          "name": "stdout",
          "text": "R2 score(MLP Regressor): 0.93\n",
          "output_type": "stream"
        }
      ]
    },
    {
      "cell_type": "markdown",
      "source": [
        "## Hyperparameter tuning\n",
        "1. Random forest\n",
        "2. Adaboost"
      ],
      "metadata": {
        "_uuid": "1da5847a-3325-48f0-9bfb-812b4c4d5a31",
        "_cell_guid": "b2c344ca-d132-454a-b6b5-1fdaaf2c5ca5",
        "trusted": true,
        "id": "zm9JPEgStLCo"
      }
    },
    {
      "cell_type": "code",
      "source": [
        "from sklearn.model_selection import RandomizedSearchCV\n",
        "from scipy.stats import randint"
      ],
      "metadata": {
        "_uuid": "8d9f6281-1107-46b6-86e0-2e63098f434c",
        "_cell_guid": "200e86fd-5fba-4b5c-8134-607a35e09f72",
        "jupyter": {
          "outputs_hidden": false
        },
        "execution": {
          "iopub.status.busy": "2023-12-18T06:15:10.341065Z",
          "iopub.execute_input": "2023-12-18T06:15:10.341441Z",
          "iopub.status.idle": "2023-12-18T06:15:10.346829Z",
          "shell.execute_reply.started": "2023-12-18T06:15:10.341413Z",
          "shell.execute_reply": "2023-12-18T06:15:10.345597Z"
        },
        "trusted": true,
        "id": "ozWa68mitLCo"
      },
      "execution_count": null,
      "outputs": []
    },
    {
      "cell_type": "markdown",
      "source": [
        "### 1. Random Forest"
      ],
      "metadata": {
        "_uuid": "4a4de9df-999d-4cea-92c7-83f096dc1341",
        "_cell_guid": "c125f04e-601b-4e9b-a110-49d6c0153b02",
        "trusted": true,
        "id": "drweeB9ftLCp"
      }
    },
    {
      "cell_type": "code",
      "source": [
        "#random forest\n",
        "\n",
        "#pipeline - rf\n",
        "#functions for transformers\n",
        "impute_transformer = FunctionTransformer(impute_df)\n",
        "datetime_transformer = FunctionTransformer(datetime_clean)\n",
        "encode_transformer = FunctionTransformer(encoding)\n",
        "scaler = StandardScaler()\n",
        "rf_tuning = Pipeline(steps=[('datetime_clean', datetime_transformer),\n",
        "                            ('encode', encode_transformer), ('impute', impute_transformer), ('scale', scaler),\n",
        "                            ('rf', rf)])\n",
        "\n",
        "param_grid_rf = {\n",
        "    'rf__n_estimators': randint(10, 200),\n",
        "    'rf__max_features': randint(3,8),\n",
        "    'rf__max_depth': randint(10,30),\n",
        "    'rf__min_samples_split': randint(2, 11),\n",
        "    'rf__min_samples_leaf': randint(1, 11)\n",
        "}\n",
        "\n",
        "random_rf = RandomizedSearchCV(rf_tuning, param_distributions = param_grid_rf,\n",
        "                                      n_iter = 10, cv = 5, scoring = 'r2', random_state = 33)"
      ],
      "metadata": {
        "_uuid": "54dce484-0279-4642-aa16-95daed88fb29",
        "_cell_guid": "c235ddc0-7df5-4f70-b6ed-43fe17d3bb25",
        "_kg_hide-output": false,
        "jupyter": {
          "outputs_hidden": false
        },
        "execution": {
          "iopub.status.busy": "2023-12-18T06:34:49.827533Z",
          "iopub.execute_input": "2023-12-18T06:34:49.827955Z",
          "iopub.status.idle": "2023-12-18T06:34:49.839311Z",
          "shell.execute_reply.started": "2023-12-18T06:34:49.827923Z",
          "shell.execute_reply": "2023-12-18T06:34:49.838373Z"
        },
        "trusted": true,
        "id": "O8SWCuyntLCp"
      },
      "execution_count": null,
      "outputs": []
    },
    {
      "cell_type": "code",
      "source": [
        "#fit using best model\n",
        "random_rf.fit(xtrain, ytrain)\n",
        "#get params\n",
        "best_rf_model = random_rf.best_estimator_\n",
        "best_rf_params = random_rf.best_params_\n",
        "print(\"Best hyperparameters for RF:\", best_rf_params)\n",
        "\n",
        "#predict\n",
        "ypred_rf_tuned = random_rf.predict(xtest)\n",
        "\n",
        "#R2 score\n",
        "r2_rf_tuned = r2_score(ytest, ypred_rf_tuned)\n",
        "print(\"R2 score(Random Forest Regressor - Tuned): {:.2f}\".format(r2_rf_tuned))"
      ],
      "metadata": {
        "_uuid": "d546f3a8-47ae-42ca-94da-c1453fbaa88b",
        "_cell_guid": "edac25d0-d860-42f4-998c-d57be9a959fd",
        "jupyter": {
          "outputs_hidden": false
        },
        "execution": {
          "iopub.status.busy": "2023-12-18T06:34:52.872154Z",
          "iopub.execute_input": "2023-12-18T06:34:52.872861Z",
          "iopub.status.idle": "2023-12-18T06:55:20.221327Z",
          "shell.execute_reply.started": "2023-12-18T06:34:52.872825Z",
          "shell.execute_reply": "2023-12-18T06:55:20.220032Z"
        },
        "trusted": true,
        "id": "_6Dw7DGWtLCp",
        "outputId": "29670634-0648-45e8-db4e-273d2442e762"
      },
      "execution_count": null,
      "outputs": [
        {
          "name": "stdout",
          "text": "Best hyperparameters for RF: {'rf__max_depth': 21, 'rf__max_features': 7, 'rf__min_samples_leaf': 2, 'rf__min_samples_split': 3, 'rf__n_estimators': 46}\nR2 score(Random Forest Regressor - Tuned): 0.95\n",
          "output_type": "stream"
        }
      ]
    },
    {
      "cell_type": "markdown",
      "source": [
        "### 2. Adaboost"
      ],
      "metadata": {
        "_uuid": "7e74a1eb-f39b-43eb-84f2-69138a393da7",
        "_cell_guid": "80699610-ea69-446b-be75-084152103260",
        "trusted": true,
        "id": "-7xUdJhgtLCq"
      }
    },
    {
      "cell_type": "code",
      "source": [
        "# Adaboost\n",
        "\n",
        "#pipeline - ada\n",
        "#functions for transformers\n",
        "impute_transformer = FunctionTransformer(impute_df)\n",
        "datetime_transformer = FunctionTransformer(datetime_clean)\n",
        "encode_transformer = FunctionTransformer(encoding)\n",
        "scaler = StandardScaler()\n",
        "ada = AdaBoostRegressor()\n",
        "ada_tuning = Pipeline(steps=[('datetime_clean', datetime_transformer),\n",
        "                            ('encode', encode_transformer), ('impute', impute_transformer), ('scale', scaler),\n",
        "                            ('ada', ada)])\n",
        "\n",
        "param_grid_ada = {\n",
        "    'ada__n_estimators': randint(10, 200),\n",
        "    'ada__learning_rate': [0.01, 0.05, 0.1, 0.5, 1]\n",
        "}\n",
        "\n",
        "random_ada = RandomizedSearchCV(ada_tuning, param_distributions = param_grid_ada,\n",
        "                                      n_iter = 10, cv = 5, scoring = 'r2', random_state = 33)"
      ],
      "metadata": {
        "_uuid": "5b207306-79d4-451d-a760-795be85e3b02",
        "_cell_guid": "79ceb844-4b21-4d0f-af7c-0dca6359ed99",
        "jupyter": {
          "outputs_hidden": false
        },
        "execution": {
          "iopub.status.busy": "2023-12-18T06:15:24.456553Z",
          "iopub.execute_input": "2023-12-18T06:15:24.457007Z",
          "iopub.status.idle": "2023-12-18T06:15:24.467539Z",
          "shell.execute_reply.started": "2023-12-18T06:15:24.456975Z",
          "shell.execute_reply": "2023-12-18T06:15:24.466182Z"
        },
        "trusted": true,
        "id": "ZqjGUIEqtLCr"
      },
      "execution_count": null,
      "outputs": []
    },
    {
      "cell_type": "code",
      "source": [
        "#fit using best model\n",
        "random_ada.fit(xtrain, ytrain)\n",
        "\n",
        "#get params\n",
        "best_ada_model = random_ada.best_estimator_\n",
        "best_ada_params = random_ada.best_params_\n",
        "print(\"Best hyperparameters for Adaboost:\", best_ada_params)\n",
        "\n",
        "#predict\n",
        "ypred_ada_tuned = random_ada.predict(xtest)\n",
        "\n",
        "#R2 score\n",
        "r2_ada_tuned = r2_score(ytest, ypred_ada_tuned)\n",
        "print(\"R2 score(Adaboost - Tuned): {:.2f}\".format(r2_ada_tuned))"
      ],
      "metadata": {
        "_uuid": "763ae39a-bbe6-4cb0-9b75-7f256e3688e7",
        "_cell_guid": "cd81ce32-3dc2-43a2-8c15-4e60c6c52344",
        "jupyter": {
          "outputs_hidden": false
        },
        "execution": {
          "iopub.status.busy": "2023-12-18T06:15:29.731523Z",
          "iopub.execute_input": "2023-12-18T06:15:29.732234Z",
          "iopub.status.idle": "2023-12-18T06:25:37.083497Z",
          "shell.execute_reply.started": "2023-12-18T06:15:29.732199Z",
          "shell.execute_reply": "2023-12-18T06:25:37.082196Z"
        },
        "trusted": true,
        "id": "Nyw6XIbztLCr",
        "outputId": "9ab286a7-0a07-43d2-867c-e49e345e3d75"
      },
      "execution_count": null,
      "outputs": [
        {
          "name": "stdout",
          "text": "Best hyperparameters for Adaboost: {'ada__learning_rate': 0.01, 'ada__n_estimators': 76}\nR2 score(Adaboost - Tuned): 0.77\n",
          "output_type": "stream"
        }
      ]
    },
    {
      "cell_type": "markdown",
      "source": [
        "# Final test data"
      ],
      "metadata": {
        "_uuid": "bf92dca7-9749-42ba-bf79-0beeafa3a343",
        "_cell_guid": "44e9c07a-71d5-40e5-a17e-39f71a583b8a",
        "id": "-glLqqncHqCK",
        "trusted": true
      }
    },
    {
      "cell_type": "code",
      "source": [
        "test.head()"
      ],
      "metadata": {
        "_uuid": "516d92e9-5ff0-41a2-8709-af814f96cfc9",
        "_cell_guid": "1e718f52-e09f-4f3b-b124-ee932a2449d6",
        "id": "xO4_xHkvzHsH",
        "jupyter": {
          "outputs_hidden": false
        },
        "execution": {
          "iopub.status.busy": "2023-11-30T04:56:00.069890Z",
          "iopub.execute_input": "2023-11-30T04:56:00.070524Z",
          "iopub.status.idle": "2023-11-30T04:56:00.100002Z",
          "shell.execute_reply.started": "2023-11-30T04:56:00.070459Z",
          "shell.execute_reply": "2023-11-30T04:56:00.098950Z"
        },
        "trusted": true
      },
      "execution_count": null,
      "outputs": []
    },
    {
      "cell_type": "code",
      "source": [
        "#one - random forest(0.95) #tuned\n",
        "ypred_ftest = random_rf.predict(test)\n",
        "rf_ypred = pd.DataFrame({'total_amount': ypred_ftest})\n",
        "rf_ypred['ID'] = range(1, len(rf_ypred) + 1)\n",
        "rf_ypred.to_csv('predictions_rf_tuned.csv', index=False)"
      ],
      "metadata": {
        "_uuid": "0642e9fb-cc05-4f97-87d2-3ad6213d3b1f",
        "_cell_guid": "d30eda03-df33-4a38-898b-adaecebdd9c0",
        "id": "EiaTzHp3HqCT",
        "execution": {
          "iopub.status.busy": "2023-11-29T20:50:23.159688Z",
          "iopub.execute_input": "2023-11-29T20:50:23.161516Z",
          "iopub.status.idle": "2023-11-29T20:50:23.973381Z",
          "shell.execute_reply.started": "2023-11-29T20:50:23.161441Z",
          "shell.execute_reply": "2023-11-29T20:50:23.972085Z"
        },
        "jupyter": {
          "outputs_hidden": false
        },
        "trusted": true
      },
      "execution_count": null,
      "outputs": []
    },
    {
      "cell_type": "code",
      "source": [
        "#two - adaboost(0.95) #untuned\n",
        "ypred_ftest_ada = full_pipeline_adaboost.predict(test)\n",
        "ada_ypred = pd.DataFrame({'total_amount': ypred_ftest_ada})\n",
        "ada_ypred['ID'] = range(1, len(ada_ypred) + 1)\n",
        "ada_ypred.to_csv('predictions_ada.csv', index=False)"
      ],
      "metadata": {
        "_uuid": "64b7b1da-fb92-4d7b-ad5d-961a616b6da3",
        "_cell_guid": "ac3325ae-cdad-4473-b617-267d052e372f",
        "id": "8X50ar-_83qk",
        "jupyter": {
          "outputs_hidden": false
        },
        "execution": {
          "iopub.status.busy": "2023-11-30T04:56:11.181531Z",
          "iopub.execute_input": "2023-11-30T04:56:11.182989Z",
          "iopub.status.idle": "2023-11-30T04:56:15.153619Z",
          "shell.execute_reply.started": "2023-11-30T04:56:11.182929Z",
          "shell.execute_reply": "2023-11-30T04:56:15.151966Z"
        },
        "trusted": true
      },
      "execution_count": null,
      "outputs": []
    },
    {
      "cell_type": "code",
      "source": [
        "#three - gradientboosting(0.94) #untuned\n",
        "ypred_ftest_gb = full_pipeline_gb.predict(test)\n",
        "gb_ypred = pd.DataFrame({'total_amount': ypred_ftest_gb})\n",
        "gb_ypred['ID'] = range(1, len(gb_ypred) + 1)\n",
        "gb_ypred.to_csv('predictions_gb.csv', index=False)"
      ],
      "metadata": {
        "_uuid": "d2633a83-0443-48f6-aa69-ac9f9b12671e",
        "_cell_guid": "6b690a31-54f5-4a35-9a39-0a4f75d15430",
        "id": "1mk0bSfY9OjA",
        "execution": {
          "iopub.status.busy": "2023-11-29T20:52:09.309371Z",
          "iopub.execute_input": "2023-11-29T20:52:09.309788Z",
          "iopub.status.idle": "2023-11-29T20:52:09.628296Z",
          "shell.execute_reply.started": "2023-11-29T20:52:09.309749Z",
          "shell.execute_reply": "2023-11-29T20:52:09.627142Z"
        },
        "jupyter": {
          "outputs_hidden": false
        },
        "trusted": true
      },
      "execution_count": null,
      "outputs": []
    },
    {
      "cell_type": "code",
      "source": [
        "#four - mlp(0.93) #untuned\n",
        "ypred_ftest_mlp = full_pipeline_mlp.predict(test)\n",
        "mlp_ypred = pd.DataFrame({'total_amount': ypred_ftest_mlp})\n",
        "mlp_ypred['ID'] = range(1, len(mlp_ypred) + 1)\n",
        "mlp_ypred.to_csv('predictions_mlp.csv', index=False)"
      ],
      "metadata": {
        "_uuid": "2ad26f33-aa17-4e0c-bc00-07ba9090ba00",
        "_cell_guid": "d0203e34-ade5-4894-a41b-4152fb6b3b79",
        "id": "ptiLzATx9e4I",
        "execution": {
          "iopub.status.busy": "2023-11-29T20:53:40.081772Z",
          "iopub.execute_input": "2023-11-29T20:53:40.082146Z",
          "iopub.status.idle": "2023-11-29T20:53:40.409564Z",
          "shell.execute_reply.started": "2023-11-29T20:53:40.082121Z",
          "shell.execute_reply": "2023-11-29T20:53:40.408871Z"
        },
        "jupyter": {
          "outputs_hidden": false
        },
        "trusted": true
      },
      "execution_count": null,
      "outputs": []
    },
    {
      "cell_type": "code",
      "source": [
        "#five - random forest(0.95) #untuned\n",
        "ypred_ftest = full_pipeline_rf.predict(test)\n",
        "rf_ypred = pd.DataFrame({'total_amount': ypred_ftest})\n",
        "rf_ypred['ID'] = range(1, len(rf_ypred) + 1)\n",
        "rf_ypred.to_csv('predictions_rf_untuned.csv', index=False)"
      ],
      "metadata": {
        "execution": {
          "iopub.status.busy": "2023-11-30T04:56:41.317500Z",
          "iopub.execute_input": "2023-11-30T04:56:41.317957Z",
          "iopub.status.idle": "2023-11-30T04:56:45.130573Z",
          "shell.execute_reply.started": "2023-11-30T04:56:41.317924Z",
          "shell.execute_reply": "2023-11-30T04:56:45.128861Z"
        },
        "trusted": true,
        "id": "vxU9myPxtLCu"
      },
      "execution_count": null,
      "outputs": []
    },
    {
      "cell_type": "markdown",
      "source": [
        "# Summary & Insights"
      ],
      "metadata": {
        "id": "UK_JEeRDtLCu"
      }
    },
    {
      "cell_type": "markdown",
      "source": [
        "Data Preprocessing:\n",
        "\n",
        "- Addressed issues like earlier dropoff time than pickup and missing values using appropriate strategies\n",
        "- Extracted useful features from datetime columns(day of the week and time of day)\n",
        "\n",
        "Models(R2 score in brackets)\n",
        "1. Baseline Model - Dummy Regressor(mean) -  (0.00)\n",
        "2. Linear Regression(0.72)\n",
        "3. KNeighbors Regressor(0.76)\n",
        "4. Gradient Boosting Regressor(0.94)\n",
        "5. Multilayer Perceptron Regressor(0.93)\n",
        "4. Tree-based models:\n",
        "    - Decision Tree(0.90)\n",
        "    - Random Forest(0.95)\n",
        "    - AdaBoost with Decision Trees(0.95)\n",
        "\n",
        "Random Forest and AdaBoost showed highest performance among the models, so hyperparameter tuning was done on them. Random Forest maintained its performance while Adaboost did not(primarily because of it being expensive in terms of computational power and time).\n",
        "\n",
        "Final test predictions was hence done with Random Forest(tuned), Adaboost, Gradient Boosting and MLPRegressor."
      ],
      "metadata": {
        "id": "Jni4BEj2tLCv"
      }
    },
    {
      "cell_type": "code",
      "source": [
        "#df for scores\n",
        "models = ['Baseline', 'Linear Regression', 'KNeighbors', 'Gradient Boosting', 'MLP', 'Decision Tree', 'Random Forest', 'Random Forest_tuned', 'AdaBoost', 'AdaBoost_tuned']\n",
        "scores = [0.00, 0.72, 0.76, 0.94, 0.93, 0.90, 0.95, 0.95, 0.95, 0.77]\n",
        "scores_df = pd.DataFrame({'Models': models, 'R2 Score': scores})\n",
        "\n",
        "#plot for score insights\n",
        "plt.figure(figsize=(10, 6))\n",
        "plot = sns.barplot(x='R2 Score', y='Models', data=scores_df)\n",
        "\n",
        "plt.title('R2 score comparison of different regression models')\n",
        "plt.xlabel('R2 Score')\n",
        "plt.ylabel('Models')\n",
        "\n",
        "plt.show()"
      ],
      "metadata": {
        "execution": {
          "iopub.status.busy": "2023-12-18T07:49:41.022831Z",
          "iopub.execute_input": "2023-12-18T07:49:41.023258Z",
          "iopub.status.idle": "2023-12-18T07:49:41.397030Z",
          "shell.execute_reply.started": "2023-12-18T07:49:41.023229Z",
          "shell.execute_reply": "2023-12-18T07:49:41.395339Z"
        },
        "trusted": true,
        "id": "LdRmNTXStLCv",
        "outputId": "2c4f6aae-4806-4f9d-f7a3-1433c4932a25"
      },
      "execution_count": null,
      "outputs": [
        {
          "output_type": "display_data",
          "data": {
            "text/plain": "<Figure size 1000x600 with 1 Axes>",
            "image/png": "[encoded data removed]"
          },
          "metadata": {}
        }
      ]
    }
  ]
}